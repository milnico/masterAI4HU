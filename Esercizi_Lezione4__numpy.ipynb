{
  "nbformat": 4,
  "nbformat_minor": 0,
  "metadata": {
    "colab": {
      "provenance": [],
      "authorship_tag": "ABX9TyN+idOgQPhTXCd4Pe0xwcmj",
      "include_colab_link": true
    },
    "kernelspec": {
      "name": "python3",
      "display_name": "Python 3"
    },
    "language_info": {
      "name": "python"
    }
  },
  "cells": [
    {
      "cell_type": "markdown",
      "metadata": {
        "id": "view-in-github",
        "colab_type": "text"
      },
      "source": [
        "<a href=\"https://colab.research.google.com/github/milnico/masterAI4HU/blob/main/Esercizi_Lezione4__numpy.ipynb\" target=\"_parent\"><img src=\"https://colab.research.google.com/assets/colab-badge.svg\" alt=\"Open In Colab\"/></a>"
      ]
    },
    {
      "cell_type": "markdown",
      "metadata": {
        "id": "gynx7sCdJ0vq"
      },
      "source": [
        "## Esercizi"
      ]
    },
    {
      "cell_type": "code",
      "metadata": {
        "id": "nTHGYvEoF8xO"
      },
      "source": [
        "#Initialize a numpy array with all the integer values from 1 to 1000, then only with values every 5, 8 and 10 integers."
      ],
      "execution_count": null,
      "outputs": []
    },
    {
      "cell_type": "code",
      "metadata": {
        "id": "qj3geYx_J5ru"
      },
      "source": [
        "#Write a NumPy program to convert a list of numeric value into a one-dimensional NumPy array.\n",
        "\n"
      ],
      "execution_count": null,
      "outputs": []
    },
    {
      "cell_type": "code",
      "metadata": {
        "id": "ouJ8QYKLKHaX"
      },
      "source": [
        "#Write a NumPy program to create a 3x3 matrix with values ranging from 2 to 10\n"
      ],
      "execution_count": null,
      "outputs": []
    },
    {
      "cell_type": "code",
      "metadata": {
        "id": "vysi78x6KREg"
      },
      "source": [
        "#Write a NumPy program to create a null vector of size 10 and update sixth value to 11\n"
      ],
      "execution_count": null,
      "outputs": []
    },
    {
      "cell_type": "code",
      "metadata": {
        "id": "zwWAXNeqKhvX"
      },
      "source": [
        "#Write a NumPy program to replace all elements of NumPy array that are greater than 0.5.\n",
        "\n"
      ],
      "execution_count": null,
      "outputs": []
    },
    {
      "cell_type": "code",
      "metadata": {
        "id": "wCEQvtEpLnKI"
      },
      "source": [
        "#write NumPy program that creates a two rank 2 array, or two matrix, of dimension (5,5), a and b.\n",
        "#then append b to a to create a single rank 2 array of dimension (5,10)\n",
        "#furthermore append again b to a , this time to create a single rank 2 array of dimension (10,5)\n",
        "\n"
      ],
      "execution_count": null,
      "outputs": []
    },
    {
      "cell_type": "code",
      "metadata": {
        "id": "nYjJm6PRM7PS"
      },
      "source": [
        "#Write a NumPy program to get the row numbers in given array where at least one item is larger than 10.\n",
        "\n",
        "import numpy as np\n",
        "num = np.arange(36)\n",
        "arr1 = np.reshape(num, [4, 9])"
      ],
      "execution_count": null,
      "outputs": []
    },
    {
      "cell_type": "code",
      "metadata": {
        "id": "AJt0MlaZOAAQ"
      },
      "source": [
        " #Compute the maximum for each row in the given array.\n",
        " # Input\n",
        "np.random.seed(100)\n",
        "a = np.random.randint(1,10, [5,3])\n",
        "print(a)\n",
        "\n"
      ],
      "execution_count": null,
      "outputs": []
    },
    {
      "cell_type": "code",
      "metadata": {
        "id": "CnEDtcaLbmNO"
      },
      "source": [
        "#Create a 2-D array of dimension (10,3) and generate a new array containing its 2nd and 4th rows.\n",
        "\n"
      ],
      "execution_count": null,
      "outputs": []
    },
    {
      "cell_type": "code",
      "metadata": {
        "id": "xU66XTMpSH0x"
      },
      "source": [
        "#Generate a 10 x 3 array of random numbers (in range [0,1]). For each row, pick the number closest to 0.5.\n",
        "import numpy as np\n"
      ],
      "execution_count": null,
      "outputs": []
    },
    {
      "cell_type": "code",
      "metadata": {
        "id": "JYsBQqUUHZtO"
      },
      "source": [
        "# Initialize a random rank 2 array of dimension (5,6) of integer between 1 and 10 using the numpy function randint. Then split the matrix in 5 arrays\n",
        "# one for each row, and 6 arrays one for each column"
      ],
      "execution_count": null,
      "outputs": []
    },
    {
      "cell_type": "markdown",
      "metadata": {
        "id": "vobfsfeU6PhQ"
      },
      "source": [
        "Riempire una sequenza con 100 interi pseudo-casuali compresi tra -50 e +50 (estremi inclusi). Successivamente visualizzare il secondo intero più piccolo tra gli interi presenti nella sequenza"
      ]
    },
    {
      "cell_type": "code",
      "metadata": {
        "id": "PT4I-p1Z6OUZ"
      },
      "source": [],
      "execution_count": null,
      "outputs": []
    },
    {
      "cell_type": "markdown",
      "metadata": {
        "id": "ZOrIS0ZN6aFW"
      },
      "source": [
        "Riempire una matrice di 4 righe e 3 colonne con interi pseudo-casuali compresi tra 1 e 9 (estremi inclusi). Per ciascuna riga della tabella visualizzare la somma degli interi presenti sulla riga e, successivamente, visualizzare la somma degli interi presenti su ciascuna colonna"
      ]
    },
    {
      "cell_type": "code",
      "metadata": {
        "id": "25F2X0u66iFU"
      },
      "source": [],
      "execution_count": null,
      "outputs": []
    },
    {
      "cell_type": "markdown",
      "metadata": {
        "id": "WxPIwu5b6-pK"
      },
      "source": [
        "Riempire una matrice di 6 righe e 6 colonne con interi pseudo-casuali compresi tra 1 e 50 (estremi inclusi). Creare un nuovo vettore di rango 1 di 6 elementi\n",
        "contenente la somma degli elementi pari di ciascuna riga"
      ]
    },
    {
      "cell_type": "code",
      "metadata": {
        "id": "VB97pBqa7O6w"
      },
      "source": [],
      "execution_count": null,
      "outputs": []
    }
  ]
}