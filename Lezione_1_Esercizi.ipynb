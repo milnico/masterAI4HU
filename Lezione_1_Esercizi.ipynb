{
  "nbformat": 4,
  "nbformat_minor": 0,
  "metadata": {
    "colab": {
      "provenance": [],
      "authorship_tag": "ABX9TyP+A9p4Pi4DmXGgIgKl8vjy",
      "include_colab_link": true
    },
    "kernelspec": {
      "name": "python3",
      "display_name": "Python 3"
    },
    "language_info": {
      "name": "python"
    }
  },
  "cells": [
    {
      "cell_type": "markdown",
      "metadata": {
        "id": "view-in-github",
        "colab_type": "text"
      },
      "source": [
        "<a href=\"https://colab.research.google.com/github/milnico/masterAI4HU/blob/main/Lezione_1_Esercizi.ipynb\" target=\"_parent\"><img src=\"https://colab.research.google.com/assets/colab-badge.svg\" alt=\"Open In Colab\"/></a>"
      ]
    },
    {
      "cell_type": "markdown",
      "source": [
        "Print the second item in the fruits list."
      ],
      "metadata": {
        "id": "OfK9OgmKAIfq"
      }
    },
    {
      "cell_type": "code",
      "source": [
        "fruits = [\"apple\", \"banana\", \"cherry\",\"ananas\"]"
      ],
      "metadata": {
        "id": "kQxj5JhQAMzC"
      },
      "execution_count": null,
      "outputs": []
    },
    {
      "cell_type": "markdown",
      "source": [
        "Print the last two items in the fruits list."
      ],
      "metadata": {
        "id": "1mOv2IoqAPQO"
      }
    },
    {
      "cell_type": "code",
      "source": [
        "fruits = [\"apple\", \"banana\", \"cherry\",\"ananas\"]"
      ],
      "metadata": {
        "id": "uJxXctryATna"
      },
      "execution_count": null,
      "outputs": []
    },
    {
      "cell_type": "markdown",
      "source": [
        "Create another fruit list and add it to fruit, store the merged list in another variable"
      ],
      "metadata": {
        "id": "HhNl7zLQAVtf"
      }
    },
    {
      "cell_type": "code",
      "source": [
        "fruits = [\"apple\", \"banana\", \"cherry\",\"ananas\"]"
      ],
      "metadata": {
        "id": "XuA0UlqzAtRD"
      },
      "execution_count": null,
      "outputs": []
    },
    {
      "cell_type": "markdown",
      "source": [
        "Change the third element with another fruit "
      ],
      "metadata": {
        "id": "sGkDL-HsAn1a"
      }
    },
    {
      "cell_type": "code",
      "source": [
        "fruits = [\"apple\", \"banana\", \"cherry\",\"ananas\"]"
      ],
      "metadata": {
        "id": "hP-tzQkFAjR1"
      },
      "execution_count": null,
      "outputs": []
    },
    {
      "cell_type": "markdown",
      "source": [
        "change the second and third item with two new fruit "
      ],
      "metadata": {
        "id": "lF2p8-wYBADX"
      }
    },
    {
      "cell_type": "code",
      "source": [
        "fruits = [\"apple\", \"banana\", \"cherry\",\"ananas\"]"
      ],
      "metadata": {
        "id": "vBfdrvLVA_gZ"
      },
      "execution_count": null,
      "outputs": []
    },
    {
      "cell_type": "markdown",
      "source": [
        "swap the first and last item of the list"
      ],
      "metadata": {
        "id": "CIxN8csQCEsR"
      }
    },
    {
      "cell_type": "code",
      "source": [
        "fruits = [\"apple\", \"banana\", \"cherry\",\"ananas\"]"
      ],
      "metadata": {
        "id": "UcmVYbE3B_9q"
      },
      "execution_count": null,
      "outputs": []
    },
    {
      "cell_type": "markdown",
      "source": [
        "iterate over the list and save the index of \"cherry\" in a new variable, then print this variable"
      ],
      "metadata": {
        "id": "kUM0dc3VCJ8-"
      }
    },
    {
      "cell_type": "code",
      "source": [
        "fruits = [\"apple\", \"banana\", \"cherry\",\"ananas\"]"
      ],
      "metadata": {
        "id": "Er3aM1P8CT9W"
      },
      "execution_count": null,
      "outputs": []
    },
    {
      "cell_type": "markdown",
      "source": [
        "get the maximum from the nums lists\n",
        "\n"
      ],
      "metadata": {
        "id": "mCvqOd3Dw8ep"
      }
    },
    {
      "cell_type": "code",
      "source": [
        "nums = [12, 15, 32, 42, 55, 75, 122, 132, 150, 180, 200]"
      ],
      "metadata": {
        "id": "xmDiH6nFw8QD"
      },
      "execution_count": null,
      "outputs": []
    },
    {
      "cell_type": "markdown",
      "source": [
        "get the minimum from the nums lists"
      ],
      "metadata": {
        "id": "CI3I4bGyxCe2"
      }
    },
    {
      "cell_type": "code",
      "source": [
        "nums = [12, 15, 32, 42, 55, 75, 122, 132, 150, 180, 200]"
      ],
      "metadata": {
        "id": "OI41u2-yxEpu"
      },
      "execution_count": null,
      "outputs": []
    },
    {
      "cell_type": "markdown",
      "source": [
        "sum all the elements of nums using for and while\n",
        "\n",
        "get the mean value from nums"
      ],
      "metadata": {
        "id": "dY7SiVipuePv"
      }
    },
    {
      "cell_type": "code",
      "execution_count": null,
      "metadata": {
        "id": "AmkBQN5puYqz"
      },
      "outputs": [],
      "source": [
        "nums = [12, 15, 32, 42, 55, 75, 122, 132, 150, 180, 200]\n"
      ]
    },
    {
      "cell_type": "markdown",
      "source": [
        "sum only the element smaller than 1000 from nums using and\n",
        "get their mean"
      ],
      "metadata": {
        "id": "AGBx1g8gxKIs"
      }
    },
    {
      "cell_type": "code",
      "source": [
        "nums = [12, 15, 32, 42, 55, 75, 122, 132, 150, 180, 200]\n"
      ],
      "metadata": {
        "id": "BJMS5XYixJ6b"
      },
      "execution_count": null,
      "outputs": []
    },
    {
      "cell_type": "markdown",
      "source": [
        "get the mean of boys' age and get the names of the elder and the younger children in general"
      ],
      "metadata": {
        "id": "MnAwOhp1ucXV"
      }
    },
    {
      "cell_type": "code",
      "source": [
        "names = [\"Ezio\", \"Maria\", \"Pamela\", \"Carlo\", \"Fulvio\", \"Carmela\", \"Paola\"]\n",
        "age = [12, 14, 10, 9, 11, 12, 13]\n"
      ],
      "metadata": {
        "id": "6dOvTSzwucs0"
      },
      "execution_count": null,
      "outputs": []
    }
  ]
}