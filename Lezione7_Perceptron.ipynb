{
  "nbformat": 4,
  "nbformat_minor": 0,
  "metadata": {
    "colab": {
      "name": "Lezione7_Perceptron.ipynb",
      "provenance": [],
      "collapsed_sections": [],
      "include_colab_link": true
    },
    "kernelspec": {
      "display_name": "Python 3",
      "language": "python",
      "name": "python3"
    },
    "language_info": {
      "codemirror_mode": {
        "name": "ipython",
        "version": 3
      },
      "file_extension": ".py",
      "mimetype": "text/x-python",
      "name": "python",
      "nbconvert_exporter": "python",
      "pygments_lexer": "ipython3",
      "version": "3.7.6"
    }
  },
  "cells": [
    {
      "cell_type": "markdown",
      "metadata": {
        "id": "view-in-github",
        "colab_type": "text"
      },
      "source": [
        "<a href=\"https://colab.research.google.com/github/milnico/masterAI4HU/blob/main/Lezione7_Perceptron.ipynb\" target=\"_parent\"><img src=\"https://colab.research.google.com/assets/colab-badge.svg\" alt=\"Open In Colab\"/></a>"
      ]
    },
    {
      "cell_type": "markdown",
      "metadata": {
        "id": "Bf-f7PmUpfXp"
      },
      "source": [
        "Perceptron"
      ]
    },
    {
      "cell_type": "code",
      "metadata": {
        "colab": {
          "base_uri": "https://localhost:8080/",
          "height": 313
        },
        "id": "0G5ht2X3pgfy",
        "outputId": "b463e09d-4588-4ff0-a3fb-5e5bef3cffbc"
      },
      "source": [
        "import matplotlib.pyplot as plt\n",
        "import numpy as np\n",
        "from sklearn import datasets\n",
        "X, y = datasets.make_blobs(n_samples=150,n_features=2,\n",
        "                           centers=2,cluster_std=1.05,\n",
        "                           random_state=2)\n",
        "\n",
        "#Plotting\n",
        "fig = plt.figure(figsize=(6,4))\n",
        "plt.plot(X[:, 0][y == 0], X[:, 1][y == 0], 'r^')\n",
        "plt.plot(X[:, 0][y == 1], X[:, 1][y == 1], 'bs')\n",
        "plt.xlabel(\"feature 1\")\n",
        "plt.ylabel(\"feature 2\")\n",
        "plt.title('Random Classification Data with 2 classes')"
      ],
      "execution_count": 13,
      "outputs": [
        {
          "output_type": "execute_result",
          "data": {
            "text/plain": [
              "Text(0.5, 1.0, 'Random Classification Data with 2 classes')"
            ]
          },
          "metadata": {
            "tags": []
          },
          "execution_count": 13
        },
        {
          "output_type": "display_data",
          "data": {
            "image/png": "[encoded data removed]",
            "text/plain": [
              "<Figure size 432x288 with 1 Axes>"
            ]
          },
          "metadata": {
            "tags": [],
            "needs_background": "light"
          }
        }
      ]
    },
    {
      "cell_type": "code",
      "metadata": {
        "id": "-BtvVgpPp-bk"
      },
      "source": [
        "def step_func(z):\n",
        "        return 1.0 if (z > 0) else 0.0\n",
        "\n",
        "def perceptron(X, y, lr, epochs):\n",
        "    \n",
        "    # X --> Inputs.\n",
        "    # y --> labels/target.\n",
        "    # lr --> learning rate.\n",
        "    # epochs --> Number of iterations.\n",
        "    \n",
        "    # m-> number of training examples\n",
        "    # n-> number of features \n",
        "    m, n = np.shape(X)\n",
        "    \n",
        "    # Initializing parameters(weights) to zeros.\n",
        "    # n+1 in 1 for the bias term.\n",
        "    weights = np.zeros((1,n+1))\n",
        "    \n",
        "    # Empty list to store how many examples were \n",
        "    # misclassified at every iteration.\n",
        "    n_miss_list = []\n",
        "    \n",
        "    # Training.\n",
        "    for epoch in range(epochs):\n",
        "        \n",
        "        # variable to store #misclassified.\n",
        "        n_miss = 0\n",
        "        \n",
        "        # looping for every example.\n",
        "        for idx, x_i in enumerate(X):\n",
        "            \n",
        "            # Insering 1 for bias, X0 = 1.\n",
        "            \n",
        "            x_i = np.insert(x_i, 0, 1).reshape(n+1,1)\n",
        "            \n",
        "            # Calculating prediction/hypothesis.\n",
        "            y_hat = step_func(np.dot(weights,x_i))\n",
        "            \n",
        "            # Updating if the example is misclassified.\n",
        "            if (np.squeeze(y_hat) - y[idx]) != 0:\n",
        "                weights += lr*((y[idx] - y_hat)*x_i.T)\n",
        "                \n",
        "                # Incrementing by 1.\n",
        "                n_miss += 1\n",
        "        \n",
        "        # Appending number of misclassified examples\n",
        "        # at every iteration.\n",
        "        n_miss_list.append(n_miss)\n",
        "        \n",
        "    return weights, n_miss_list"
      ],
      "execution_count": 37,
      "outputs": []
    },
    {
      "cell_type": "code",
      "metadata": {
        "id": "S5FP3hVFrAJ-"
      },
      "source": [
        "def plot_decision_boundary(X, weights):\n",
        "    \n",
        "    # X --> Inputs\n",
        "    # weights --> parameters\n",
        "    \n",
        "    # The Line is y=mx+c\n",
        "    # So, Equate mx+c = theta0.X0 + theta1.X1 + theta2.X2\n",
        "    # Solving we find m and c\n",
        "    x1 = np.array([np.min(X[:,0]), np.max(X[:,0])])\n",
        "    m = -weights[0,1]/weights[0,2]\n",
        "    c = -weights[0,0]/weights[0,2]\n",
        "    print(x1,m,c)\n",
        "    input(\"ee\")\n",
        "    x2 = m*x1 + c\n",
        "    \n",
        "    # Plotting\n",
        "    fig = plt.figure(figsize=(6,4))\n",
        "    plt.plot(X[:, 0][y==0], X[:, 1][y==0], \"r^\")\n",
        "    plt.plot(X[:, 0][y==1], X[:, 1][y==1], \"bs\")\n",
        "    plt.xlabel(\"feature 1\")\n",
        "    plt.ylabel(\"feature 2\")\n",
        "    plt.title('Perceptron Algorithm')\n",
        "    plt.plot(x1, x2, 'y-')"
      ],
      "execution_count": 49,
      "outputs": []
    },
    {
      "cell_type": "code",
      "metadata": {
        "colab": {
          "base_uri": "https://localhost:8080/",
          "height": 330
        },
        "id": "BhucI6ybrE8C",
        "outputId": "c648ca17-c222-4c1d-9488-f4fb737d96ab"
      },
      "source": [
        "theta, miss_l = perceptron(X, y, 0.5, 100)\n",
        "plot_decision_boundary(X, theta)"
      ],
      "execution_count": 50,
      "outputs": [
        {
          "output_type": "stream",
          "text": [
            "[-4.07252389  5.30737681] -0.8788270892048553 -5.903733730097342\n",
            "ee\n"
          ],
          "name": "stdout"
        },
        {
          "output_type": "display_data",
          "data": {
            "image/png": "[encoded data removed]",
            "text/plain": [
              "<Figure size 432x288 with 1 Axes>"
            ]
          },
          "metadata": {
            "tags": [],
            "needs_background": "light"
          }
        }
      ]
    }
  ]
}