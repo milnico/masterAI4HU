{
  "nbformat": 4,
  "nbformat_minor": 0,
  "metadata": {
    "colab": {
      "name": "Lezione4__numpy.ipynb",
      "provenance": [],
      "collapsed_sections": [],
      "authorship_tag": "ABX9TyMPHsxLNcB4ICfAVc5nl81p",
      "include_colab_link": true
    },
    "kernelspec": {
      "name": "python3",
      "display_name": "Python 3"
    },
    "language_info": {
      "name": "python"
    }
  },
  "cells": [
    {
      "cell_type": "markdown",
      "metadata": {
        "id": "view-in-github",
        "colab_type": "text"
      },
      "source": [
        "<a href=\"https://colab.research.google.com/github/milnico/masterAI4HU/blob/main/Lezione4__numpy_svolta.ipynb\" target=\"_parent\"><img src=\"https://colab.research.google.com/assets/colab-badge.svg\" alt=\"Open In Colab\"/></a>"
      ]
    },
    {
      "cell_type": "markdown",
      "metadata": {
        "id": "cKGqoBAhEqNF"
      },
      "source": [
        "##Numpy"
      ]
    },
    {
      "cell_type": "markdown",
      "metadata": {
        "id": "SYwa-itfEtl_"
      },
      "source": [
        "Numpy is the core library for scientific computing in Python. It provides a high-performance multidimensional array object, and tools for working with these arrays.\n",
        "To use Numpy, we first need to import the `numpy` package:"
      ]
    },
    {
      "cell_type": "code",
      "metadata": {
        "id": "gS-LoyNdKu85"
      },
      "source": [
        "import numpy as np\n",
        "\n"
      ],
      "execution_count": null,
      "outputs": []
    },
    {
      "cell_type": "markdown",
      "metadata": {
        "id": "2i3YLLI9E2h4"
      },
      "source": [
        "A numpy array is a grid of values, all of the same type, and is indexed by a tuple of nonnegative integers. The number of dimensions is the rank of the array; the shape of an array is a tuple of integers giving the size of the array along each dimension."
      ]
    },
    {
      "cell_type": "markdown",
      "metadata": {
        "id": "74eAQlHlE9Fo"
      },
      "source": [
        "We can initialize numpy arrays from nested Python lists, and access elements using square brackets:"
      ]
    },
    {
      "cell_type": "code",
      "metadata": {
        "id": "NqDkv4WOE_6l",
        "colab": {
          "base_uri": "https://localhost:8080/"
        },
        "outputId": "c5f72bab-cc15-4c37-b80a-175d7ebc541a"
      },
      "source": [
        "a = np.array([1, 2, 3])  # Create a rank 1 array\n",
        "print(type(a), a.shape, a[0], a[1], a[2])\n",
        "a[0] = 5                 # Change an element of the array\n",
        "print(a)  "
      ],
      "execution_count": null,
      "outputs": [
        {
          "output_type": "stream",
          "text": [
            "<class 'numpy.ndarray'> (3,) 1 2 3\n",
            "[5 2 3]\n"
          ],
          "name": "stdout"
        }
      ]
    },
    {
      "cell_type": "code",
      "metadata": {
        "id": "b1VTQumSFCRC",
        "colab": {
          "base_uri": "https://localhost:8080/"
        },
        "outputId": "59640309-bd23-49a2-b85b-f949c5f7272c"
      },
      "source": [
        "b = np.array([[1,2,3],[4,5,6]])   # Create a rank 2 array\n",
        "print(b)"
      ],
      "execution_count": null,
      "outputs": [
        {
          "output_type": "stream",
          "text": [
            "[[1 2 3]\n",
            " [4 5 6]]\n"
          ],
          "name": "stdout"
        }
      ]
    },
    {
      "cell_type": "code",
      "metadata": {
        "id": "HeakL_7VFIya",
        "colab": {
          "base_uri": "https://localhost:8080/"
        },
        "outputId": "bd7383df-d3af-43f4-c5ff-d1eea899a7ad"
      },
      "source": [
        "print(b.shape)\n",
        "print(np.shape(b))\n",
        "print(b[0, 0], b[0, 1], b[1, 0])"
      ],
      "execution_count": null,
      "outputs": [
        {
          "output_type": "stream",
          "text": [
            "(2, 3)\n",
            "(2, 3)\n",
            "1 2 4\n"
          ],
          "name": "stdout"
        }
      ]
    },
    {
      "cell_type": "code",
      "metadata": {
        "id": "4ipQ6_xXFP77"
      },
      "source": [
        "a = np.zeros((2,2))  # Create an array of all zeros\n",
        "print(a)"
      ],
      "execution_count": null,
      "outputs": []
    },
    {
      "cell_type": "code",
      "metadata": {
        "id": "koD8OAn3FScq"
      },
      "source": [
        "b = np.ones((1,2))   # Create an array of all ones\n",
        "print(b)"
      ],
      "execution_count": null,
      "outputs": []
    },
    {
      "cell_type": "code",
      "metadata": {
        "id": "h0NBIi2ZFUvz",
        "colab": {
          "base_uri": "https://localhost:8080/"
        },
        "outputId": "28119d5f-5667-4499-8665-ae48978318f5"
      },
      "source": [
        "c = np.full((2,2), 7) # Create a constant array\n",
        "print(c)"
      ],
      "execution_count": null,
      "outputs": [
        {
          "output_type": "stream",
          "text": [
            "[[7 7]\n",
            " [7 7]]\n"
          ],
          "name": "stdout"
        }
      ]
    },
    {
      "cell_type": "code",
      "metadata": {
        "id": "mvz0AtfrFXIr",
        "colab": {
          "base_uri": "https://localhost:8080/"
        },
        "outputId": "a4e2d713-de4b-4086-d1e8-177fe1bba77f"
      },
      "source": [
        "e = np.random.random((2,2)) # Create an array filled with random values\n",
        "print(e)"
      ],
      "execution_count": null,
      "outputs": [
        {
          "output_type": "stream",
          "text": [
            "[[0.99695965 0.35158138]\n",
            " [0.45800497 0.87577073]]\n"
          ],
          "name": "stdout"
        }
      ]
    },
    {
      "cell_type": "code",
      "metadata": {
        "id": "AcPhErBO_R2i"
      },
      "source": [
        "import matplotlib.pyplot as plt\n",
        "\n",
        "np.random.seed(42)\n",
        "x = np.random.uniform(size=100000)\n",
        "\n",
        "plt.hist(x, density=False, bins=30)  # density=False would make counts\n",
        "plt.ylabel('Probability')\n",
        "plt.xlabel('Data');"
      ],
      "execution_count": null,
      "outputs": []
    },
    {
      "cell_type": "code",
      "metadata": {
        "id": "rd7xgeEY9Iw1"
      },
      "source": [
        "import numpy as np\n",
        "np.random.seed(0)  # seed for reproducibility\n",
        "\n",
        "x1 = np.random.randint(10, size=6)  # One-dimensional array\n",
        "x2 = np.random.randint(10, size=(3, 4))  # Two-dimensional array\n",
        "x3 = np.random.randint(10, size=(3, 4, 5))  # Three-dimensional array"
      ],
      "execution_count": null,
      "outputs": []
    },
    {
      "cell_type": "code",
      "metadata": {
        "id": "uD2YzNqs9Ovx"
      },
      "source": [
        "print(\"x3 ndim: \", x3.ndim)\n",
        "print(\"x3 shape:\", x3.shape)\n",
        "print(\"x3 size: \", x3.size)"
      ],
      "execution_count": null,
      "outputs": []
    },
    {
      "cell_type": "markdown",
      "metadata": {
        "id": "HA9msFxrGNfu"
      },
      "source": [
        "Slicing: Similar to Python lists, numpy arrays can be sliced. Since arrays may be multidimensional, you must specify a slice for each dimension of the array:\n",
        "\n"
      ]
    },
    {
      "cell_type": "code",
      "metadata": {
        "colab": {
          "base_uri": "https://localhost:8080/"
        },
        "id": "Fh6cQP6bGRlF",
        "outputId": "0994a148-a71f-423b-8834-f14e70adc56d"
      },
      "source": [
        "import numpy as np\n",
        "\n",
        "# Create the following rank 2 array with shape (3, 4)\n",
        "# [[ 1  2  3  4]\n",
        "#  [ 5  6  7  8]\n",
        "#  [ 9 10 11 12]]\n",
        "a = np.array([[1,2,3,4], [5,6,7,8], [9,10,11,12]])\n",
        "\n",
        "# Use slicing to pull out the subarray consisting of the first 2 rows\n",
        "# and columns 1 and 2; b is the following array of shape (2, 2):\n",
        "# [[2 3]\n",
        "#  [6 7]]\n",
        "b = a[:2, 1:3]\n",
        "print(b)"
      ],
      "execution_count": null,
      "outputs": [
        {
          "output_type": "stream",
          "text": [
            "[[2 3]\n",
            " [6 7]]\n"
          ],
          "name": "stdout"
        }
      ]
    },
    {
      "cell_type": "markdown",
      "metadata": {
        "id": "Poe1Bo1iGTld"
      },
      "source": [
        "A slice of an array is a view into the same data, so modifying it will modify \n"
      ]
    },
    {
      "cell_type": "code",
      "metadata": {
        "colab": {
          "base_uri": "https://localhost:8080/"
        },
        "id": "-Yu7WytxGW0t",
        "outputId": "ed2726d8-a1e5-4213-efd9-1b7d57407f07"
      },
      "source": [
        "print(a[0, 1])\n",
        "b[0, 0] = 77    # b[0, 0] is the same piece of data as a[0, 1]\n",
        "print(a[0, 1]) "
      ],
      "execution_count": null,
      "outputs": [
        {
          "output_type": "stream",
          "text": [
            "2\n",
            "77\n"
          ],
          "name": "stdout"
        }
      ]
    },
    {
      "cell_type": "code",
      "metadata": {
        "id": "g3Kul09FG1NK"
      },
      "source": [
        "# Create the following rank 2 array with shape (3, 4)\n",
        "a = np.array([[1,2,3,4], [5,6,7,8], [9,10,11,12]])\n",
        "print(a)\n",
        "\n",
        "row_r1 = a[1, :]    # Rank 1 view of the second row of a  \n",
        "row_r2 = a[1:2, :]  # Rank 2 view of the second row of a\n",
        "row_r3 = a[[1], :]  # Rank 2 view of the second row of a\n",
        "print(row_r1, row_r1.shape)\n",
        "print(row_r2, row_r2.shape)\n",
        "print(row_r3, row_r3.shape)"
      ],
      "execution_count": null,
      "outputs": []
    },
    {
      "cell_type": "code",
      "metadata": {
        "id": "6tIruSMcHSkV"
      },
      "source": [
        "# We can make the same distinction when accessing columns of an array:\n",
        "col_r1 = a[:, 1]\n",
        "col_r2 = a[:, 1:2]\n",
        "print(col_r1, col_r1.shape)\n",
        "print()\n",
        "print(col_r2, col_r2.shape)"
      ],
      "execution_count": null,
      "outputs": []
    },
    {
      "cell_type": "markdown",
      "metadata": {
        "id": "7oDQFIhiJfvn"
      },
      "source": [
        "Basic mathematical functions operate elementwise on arrays, and are available both as operator overloads and as functions in the numpy module:"
      ]
    },
    {
      "cell_type": "code",
      "metadata": {
        "id": "7Gkh1zxrJgUY",
        "colab": {
          "base_uri": "https://localhost:8080/"
        },
        "outputId": "cf5eb3c4-baa1-462f-da6a-9e7c259756d5"
      },
      "source": [
        "x = np.array([[1,2],[3,4]], dtype=np.float64)\n",
        "y = np.array([[5,6],[7,8]], dtype=np.float64)\n",
        "print(x[x>2])\n",
        "# Elementwise sum; both produce the array\n",
        "print(x + y)\n",
        "print(np.add(x, y))"
      ],
      "execution_count": null,
      "outputs": [
        {
          "output_type": "stream",
          "text": [
            "[3. 4.]\n",
            "[[ 6.  8.]\n",
            " [10. 12.]]\n",
            "[[ 6.  8.]\n",
            " [10. 12.]]\n"
          ],
          "name": "stdout"
        }
      ]
    },
    {
      "cell_type": "code",
      "metadata": {
        "id": "F3h7wxFwJi0a"
      },
      "source": [
        "# Elementwise difference; both produce the array\n",
        "print(x - y)\n",
        "print(np.subtract(x, y))"
      ],
      "execution_count": null,
      "outputs": []
    },
    {
      "cell_type": "code",
      "metadata": {
        "id": "nUIz__FTJkx6"
      },
      "source": [
        "# Elementwise product; both produce the array\n",
        "print(x * y)\n",
        "print(np.multiply(x, y))"
      ],
      "execution_count": null,
      "outputs": []
    },
    {
      "cell_type": "code",
      "metadata": {
        "id": "yAQ1DbDtJmya"
      },
      "source": [
        "# Elementwise division; both produce the array\n",
        "# [[ 0.2         0.33333333]\n",
        "#  [ 0.42857143  0.5       ]]\n",
        "print(x / y)\n",
        "print(np.divide(x, y))"
      ],
      "execution_count": null,
      "outputs": []
    },
    {
      "cell_type": "code",
      "metadata": {
        "id": "D4r8pAtHJqjT"
      },
      "source": [
        "# Elementwise square root; produces the array\n",
        "# [[ 1.          1.41421356]\n",
        "#  [ 1.73205081  2.        ]]\n",
        "print(np.sqrt(x))"
      ],
      "execution_count": null,
      "outputs": []
    },
    {
      "cell_type": "code",
      "metadata": {
        "id": "0A336SfiJzYu"
      },
      "source": [
        "x = np.array([[1,2],[3,4]])\n",
        "\n",
        "print(np.sum(x))  # Compute sum of all elements; prints \"10\"\n",
        "print(np.sum(x, axis=0))  # Compute sum of each column; prints \"[4 6]\"\n",
        "print(np.sum(x, axis=1))  # Compute sum of each row; prints \"[3 7]\""
      ],
      "execution_count": null,
      "outputs": []
    },
    {
      "cell_type": "code",
      "metadata": {
        "colab": {
          "base_uri": "https://localhost:8080/"
        },
        "id": "_o7xdWaV9-Ip",
        "outputId": "89e9475c-518b-4847-ebb5-3970a9bfe1a2"
      },
      "source": [
        "x = np.array([1, 2, 3])\n",
        "y = np.array([3, 2, 1])\n",
        "np.concatenate([x, y])"
      ],
      "execution_count": null,
      "outputs": [
        {
          "output_type": "execute_result",
          "data": {
            "text/plain": [
              "array([1, 2, 3, 3, 2, 1])"
            ]
          },
          "metadata": {
            "tags": []
          },
          "execution_count": 10
        }
      ]
    },
    {
      "cell_type": "code",
      "metadata": {
        "id": "BOk2z9kXAANv"
      },
      "source": [
        "import time\n",
        "\n",
        "a = np.arange(0,1000000)\n",
        "sum=0\n",
        "ct = time.time()\n",
        "for i in a:\n",
        "  sum+=i\n",
        "print(sum,time.time()-ct)\n",
        "ct = time.time()\n",
        "print(np.sum(a),time.time()-ct)"
      ],
      "execution_count": null,
      "outputs": []
    },
    {
      "cell_type": "markdown",
      "metadata": {
        "id": "gynx7sCdJ0vq"
      },
      "source": [
        "## Esercizi"
      ]
    },
    {
      "cell_type": "code",
      "metadata": {
        "id": "nTHGYvEoF8xO"
      },
      "source": [
        "#Initialize a numpy array with all the integer values from 1 to 1000, then only with values every 5, 8 and 10 integers."
      ],
      "execution_count": null,
      "outputs": []
    },
    {
      "cell_type": "code",
      "metadata": {
        "id": "qj3geYx_J5ru"
      },
      "source": [
        "#Write a NumPy program to convert a list of numeric value into a one-dimensional NumPy array.\n",
        "\n"
      ],
      "execution_count": null,
      "outputs": []
    },
    {
      "cell_type": "code",
      "metadata": {
        "id": "ouJ8QYKLKHaX",
        "outputId": "2436afdf-59aa-4501-aa96-75f1411a04f8",
        "colab": {
          "base_uri": "https://localhost:8080/"
        }
      },
      "source": [
        "#Write a NumPy program to create a 3x3 matrix with values ranging from 2 to 10\n",
        "import numpy as np\n",
        "a = np.arange(2,11)\n",
        "a = np.reshape(a,(3,3))#equivalente a np.arange(2,11).reshape(3,3)\n",
        "print(a)"
      ],
      "execution_count": 2,
      "outputs": [
        {
          "output_type": "stream",
          "text": [
            "[[ 2  3  4]\n",
            " [ 5  6  7]\n",
            " [ 8  9 10]]\n"
          ],
          "name": "stdout"
        }
      ]
    },
    {
      "cell_type": "code",
      "metadata": {
        "id": "vysi78x6KREg",
        "outputId": "4d632178-56d0-4a46-bd17-0f15c2c94ead",
        "colab": {
          "base_uri": "https://localhost:8080/"
        }
      },
      "source": [
        "#Write a NumPy program to create a null vector of size 10 and update sixth value to 11\n",
        "empty_array = np.empty(10)\n",
        "\n",
        "empty_array[5] = 11\n",
        "print(empty_array)"
      ],
      "execution_count": 9,
      "outputs": [
        {
          "output_type": "stream",
          "text": [
            "[ 0.  0.  0.  0.  0. 11.  0.  0.  0.  0.]\n"
          ],
          "name": "stdout"
        }
      ]
    },
    {
      "cell_type": "code",
      "metadata": {
        "id": "m2rCUSuLpWwC",
        "outputId": "2be4cb37-9df4-4ef8-b593-bec13e778b13",
        "colab": {
          "base_uri": "https://localhost:8080/",
          "height": 495
        }
      },
      "source": [
        "import numpy as np\n",
        "np.random.seed(23595959)\n",
        "array = np.random.random_sample(100)\n",
        "print(array)\n",
        "print(array[array>0.05 and array<0.15])"
      ],
      "execution_count": 36,
      "outputs": [
        {
          "output_type": "stream",
          "text": [
            "[0.35017477 0.87815508 0.84153327 0.84082915 0.61867604 0.30934884\n",
            " 0.62285617 0.70033952 0.60910206 0.62367998 0.23921885 0.343216\n",
            " 0.46059934 0.69164385 0.41931705 0.73024148 0.80848711 0.88500231\n",
            " 0.98365085 0.84434707 0.84639168 0.1044821  0.74671433 0.51529347\n",
            " 0.67627575 0.40789955 0.98089944 0.5769962  0.71238706 0.443356\n",
            " 0.40825145 0.17655007 0.15107784 0.04321951 0.52037491 0.85768403\n",
            " 0.68443452 0.04586914 0.69752315 0.38957513 0.29586087 0.68878841\n",
            " 0.6612825  0.46235472 0.39994776 0.96665581 0.35220135 0.98936429\n",
            " 0.47942504 0.04075605 0.81526512 0.34470381 0.29812574 0.5087755\n",
            " 0.52432657 0.08507979 0.6853133  0.20944847 0.43848302 0.44496133\n",
            " 0.42267361 0.52763543 0.28949286 0.6488986  0.82001428 0.50505237\n",
            " 0.76843271 0.28906735 0.67343464 0.23520345 0.44983128 0.10226336\n",
            " 0.38276021 0.63377018 0.45137799 0.67588972 0.26598038 0.3878066\n",
            " 0.55728693 0.11691142 0.86456198 0.40206423 0.60025716 0.39593433\n",
            " 0.55902631 0.73443396 0.58602269 0.86284324 0.53512566 0.35966226\n",
            " 0.20253716 0.73521309 0.58128224 0.19233464 0.38486412 0.85116016\n",
            " 0.18879433 0.34874529 0.523672   0.09825834]\n"
          ],
          "name": "stdout"
        },
        {
          "output_type": "error",
          "ename": "ValueError",
          "evalue": "ignored",
          "traceback": [
            "\u001b[0;31m---------------------------------------------------------------------------\u001b[0m",
            "\u001b[0;31mValueError\u001b[0m                                Traceback (most recent call last)",
            "\u001b[0;32m<ipython-input-36-4ebd04d262b8>\u001b[0m in \u001b[0;36m<module>\u001b[0;34m()\u001b[0m\n\u001b[1;32m      3\u001b[0m \u001b[0marray\u001b[0m \u001b[0;34m=\u001b[0m \u001b[0mnp\u001b[0m\u001b[0;34m.\u001b[0m\u001b[0mrandom\u001b[0m\u001b[0;34m.\u001b[0m\u001b[0mrandom_sample\u001b[0m\u001b[0;34m(\u001b[0m\u001b[0;36m100\u001b[0m\u001b[0;34m)\u001b[0m\u001b[0;34m\u001b[0m\u001b[0;34m\u001b[0m\u001b[0m\n\u001b[1;32m      4\u001b[0m \u001b[0mprint\u001b[0m\u001b[0;34m(\u001b[0m\u001b[0marray\u001b[0m\u001b[0;34m)\u001b[0m\u001b[0;34m\u001b[0m\u001b[0;34m\u001b[0m\u001b[0m\n\u001b[0;32m----> 5\u001b[0;31m \u001b[0mprint\u001b[0m\u001b[0;34m(\u001b[0m\u001b[0marray\u001b[0m\u001b[0;34m[\u001b[0m\u001b[0marray\u001b[0m\u001b[0;34m>\u001b[0m\u001b[0;36m0.05\u001b[0m \u001b[0;32mand\u001b[0m \u001b[0marray\u001b[0m\u001b[0;34m<\u001b[0m\u001b[0;36m0.15\u001b[0m\u001b[0;34m]\u001b[0m\u001b[0;34m)\u001b[0m\u001b[0;34m\u001b[0m\u001b[0;34m\u001b[0m\u001b[0m\n\u001b[0m",
            "\u001b[0;31mValueError\u001b[0m: The truth value of an array with more than one element is ambiguous. Use a.any() or a.all()"
          ]
        }
      ]
    },
    {
      "cell_type": "code",
      "metadata": {
        "id": "5gHR0LF-rrzm",
        "outputId": "966c3452-9d47-4587-cf7f-f9bc64092ad1",
        "colab": {
          "base_uri": "https://localhost:8080/"
        }
      },
      "source": [
        "import numpy as np\n",
        "np.random.seed(22)\n",
        "array = np.random.random_sample(30)\n",
        "print(array)\n",
        "#print(array[(array > 0.05) & (array < 0.20)])\n",
        "a=0.05\n",
        "b =0.25\n",
        "dati = np.logical_and(array>a,array<b)\n",
        "print(dati)\n",
        "print(array[dati])\n",
        "print(np.where(dati))"
      ],
      "execution_count": 54,
      "outputs": [
        {
          "output_type": "stream",
          "text": [
            "[0.20846054 0.48168106 0.42053804 0.859182   0.17116155 0.33886396\n",
            " 0.27053283 0.69104135 0.22040452 0.81195092 0.01052687 0.5612037\n",
            " 0.81372619 0.7451003  0.18911136 0.00614087 0.77204387 0.95783217\n",
            " 0.70193788 0.29757827 0.76799274 0.68821832 0.38718348 0.61520583\n",
            " 0.42755524 0.58428964 0.70263552 0.11189517 0.92326993 0.98888627]\n",
            "[ True False False False  True False False False  True False False False\n",
            " False False  True False False False False False False False False False\n",
            " False False False  True False False]\n",
            "[0.20846054 0.17116155 0.22040452 0.18911136 0.11189517]\n",
            "(array([ 0,  4,  8, 14, 27]),)\n"
          ],
          "name": "stdout"
        }
      ]
    },
    {
      "cell_type": "code",
      "metadata": {
        "id": "zwWAXNeqKhvX",
        "outputId": "3a60fd54-fc2a-478a-c99d-270db8943d7a",
        "colab": {
          "base_uri": "https://localhost:8080/"
        }
      },
      "source": [
        "#Write a NumPy program to replace all elements of NumPy array that are greater than 0.5.\n",
        "import numpy as np\n",
        "np.random.seed(27)\n",
        "array = np.random.random_sample((5,5))\n",
        "print(array)\n",
        "print(array>0.5)\n",
        "#print(array[array>0.5])\n",
        "array[array>0.5]=10\n",
        "print(array)\n",
        "\n"
      ],
      "execution_count": 68,
      "outputs": [
        {
          "output_type": "stream",
          "text": [
            "[[0.42572141 0.81458374 0.73539729 0.8680032  0.38338077]\n",
            " [0.97945663 0.89319435 0.20971517 0.74182765 0.66314332]\n",
            " [0.88680146 0.85801271 0.74926221 0.87014472 0.18675584]\n",
            " [0.32556672 0.37293743 0.79371303 0.15106027 0.1699427 ]\n",
            " [0.08116909 0.30517534 0.7832898  0.16290618 0.0706413 ]]\n",
            "[[False  True  True  True False]\n",
            " [ True  True False  True  True]\n",
            " [ True  True  True  True False]\n",
            " [False False  True False False]\n",
            " [False False  True False False]]\n",
            "[[ 0.42572141 10.         10.         10.          0.38338077]\n",
            " [10.         10.          0.20971517 10.         10.        ]\n",
            " [10.         10.         10.         10.          0.18675584]\n",
            " [ 0.32556672  0.37293743 10.          0.15106027  0.1699427 ]\n",
            " [ 0.08116909  0.30517534 10.          0.16290618  0.0706413 ]]\n"
          ],
          "name": "stdout"
        }
      ]
    },
    {
      "cell_type": "code",
      "metadata": {
        "id": "rBvxvsr5Gu_z",
        "outputId": "58a244b0-65aa-4c3c-eb34-c909efa80b07",
        "colab": {
          "base_uri": "https://localhost:8080/"
        }
      },
      "source": [
        "#Exercise: There two array, one with a list of names and one with the related age. Retrieve the mean of the boys' age and get the names of the elder and the younger. Using numpy\n",
        "import numpy as np\n",
        "names = [\"Ezio\", \"Maria\", \"Pamela\", \"Carlo\", \"Fulvio\", \"Carmela\", \"Paola\",\"Enzo\"]\n",
        "names = np.array(names)\n",
        "\n",
        "ages = [12, 14, 10, 9, 11, 12, 13,9]\n",
        "anni_minimi = np.amin(ages)\n",
        "print(anni_minimi)\n",
        "result = np.where(ages == anni_minimi)\n",
        "print(names[result[0]])\n",
        "\n"
      ],
      "execution_count": 107,
      "outputs": [
        {
          "output_type": "stream",
          "text": [
            "9\n",
            "['Carlo' 'Enzo']\n"
          ],
          "name": "stdout"
        }
      ]
    },
    {
      "cell_type": "code",
      "metadata": {
        "id": "wCEQvtEpLnKI"
      },
      "source": [
        "#write NumPy program that creates a two rank 2 array, or two matrix, of dimension (5,5), a and b.\n",
        "#then append b to a to create a single rank 2 array of dimension (5,10)\n",
        "#furthermore append again b to a , this time to create a single rank 2 array of dimension (10,5)\n",
        "\n"
      ],
      "execution_count": null,
      "outputs": []
    },
    {
      "cell_type": "code",
      "metadata": {
        "id": "nYjJm6PRM7PS",
        "outputId": "f0cde909-a890-4258-ad53-d089a21640a9",
        "colab": {
          "base_uri": "https://localhost:8080/"
        }
      },
      "source": [
        "#Write a NumPy program to get the column numbers in given array where at least one item is larger than 3.0.\n",
        "\n",
        "import numpy as np\n",
        "np.random.seed(1)\n",
        "arr1 = np.random.random_sample((4,9))*10\n",
        "print(np.mean(arr1,axis=0))\n",
        "#print(arr1>7.0)\n",
        "#print(np.any(arr1>7.0,axis=0))\n",
        "#larger = np.where(np.any(arr1>7.0,axis=0))\n",
        "#print(larger)"
      ],
      "execution_count": 121,
      "outputs": [
        {
          "output_type": "stream",
          "text": [
            "[2.83820115 3.76862729 5.91055237 3.93348308 4.39851283 4.42484583\n",
            " 5.6657054  5.87337327 3.39004286]\n"
          ],
          "name": "stdout"
        }
      ]
    },
    {
      "cell_type": "code",
      "metadata": {
        "colab": {
          "base_uri": "https://localhost:8080/"
        },
        "id": "AJt0MlaZOAAQ",
        "outputId": "51ff1f34-cb1e-475e-bb96-fe4186c49759"
      },
      "source": [
        " #Compute the maximum for each row in the given array.\n",
        " # Input\n",
        "np.random.seed(100)\n",
        "a = np.random.randint(1,10, [5,3])\n",
        "print(a)\n",
        "\n"
      ],
      "execution_count": null,
      "outputs": [
        {
          "output_type": "stream",
          "text": [
            "[[9 9 4]\n",
            " [8 8 1]\n",
            " [5 3 6]\n",
            " [3 3 3]\n",
            " [2 1 9]]\n",
            "[9 8 6 3 9]\n",
            "[9 8 6 3 9]\n"
          ],
          "name": "stdout"
        }
      ]
    },
    {
      "cell_type": "code",
      "metadata": {
        "id": "CnEDtcaLbmNO"
      },
      "source": [
        "#Create a 2-D array of dimension (10,3) and generate a new array containing its 2nd and 4th rows.\n",
        "\n"
      ],
      "execution_count": null,
      "outputs": []
    },
    {
      "cell_type": "code",
      "metadata": {
        "id": "xU66XTMpSH0x"
      },
      "source": [
        "#Generate a 10 x 3 array of random numbers (in range [0,1]). For each row, pick the number closest to 0.5.\n",
        "import numpy as np\n"
      ],
      "execution_count": null,
      "outputs": []
    },
    {
      "cell_type": "code",
      "metadata": {
        "id": "JYsBQqUUHZtO"
      },
      "source": [
        "# Initialize a random rank 2 array of dimension (5,6) of integer between 1 and 10 using the numpy function randint. Then split the matrix in 5 arrays \n",
        "# one for each row, and 6 arrays one for each column"
      ],
      "execution_count": null,
      "outputs": []
    },
    {
      "cell_type": "markdown",
      "metadata": {
        "id": "vobfsfeU6PhQ"
      },
      "source": [
        "Riempire una sequenza con 100 interi pseudo-casuali compresi tra -50 e +50 (estremi inclusi). Successivamente visualizzare il secondo intero più piccolo tra gli interi presenti nella sequenza"
      ]
    },
    {
      "cell_type": "code",
      "metadata": {
        "id": "PT4I-p1Z6OUZ",
        "outputId": "3cabcea4-9e2a-4be9-9f7d-159b6b388b9e",
        "colab": {
          "base_uri": "https://localhost:8080/"
        }
      },
      "source": [
        "import numpy as np\n",
        "\n",
        "x=np.random.randint(-50,51,size=100)\n",
        "print(x)\n",
        "\n",
        "x=np.random.randint(-50,51,size=100)\n",
        "print(x)\n",
        "x=np.random.randint(-50,51,size=100)\n",
        "print(x)\n",
        "x=np.random.randint(-50,51,size=100)\n",
        "print(x)\n",
        "#print(y[1])\n",
        "#uniques = np.unique(x)\n",
        "#print(uniques)\n",
        "#print(uniques[1])\n"
      ],
      "execution_count": 151,
      "outputs": [
        {
          "output_type": "stream",
          "text": [
            "[-12   6 -29   1 -47  -7 -21 -49   3  31  27  10 -48 -33 -47  -2  37  13\n",
            " -26 -46  18  36  -4 -36  39   5 -32  -7  34  -7  13 -36 -34  40  27   0\n",
            " -13 -33   2 -12 -28   0  -7  32 -10 -19  35 -22  17 -12  19 -24  33  39\n",
            "  30  46  38  29  25 -30  10 -16 -40  15   9  13   4 -39 -36   7 -49 -35\n",
            " -48  35 -34  15  22 -50  -5 -25   7  17   2 -44  48   0   2   2   3  -8\n",
            "  50  46  33 -38  -2 -23  43 -32 -32  -1]\n",
            "[ 12  32 -16 -15 -23 -32  -4  16  14 -36   3 -49  35  36  -8  11 -19  47\n",
            " -29  44 -45  -4   3  14  40 -12 -18 -10 -47 -36 -21 -40  39 -15  31 -33\n",
            " -12 -35  42 -49  23 -10  46 -12 -19   4  -6 -32   1  30  23  -8  -6  48\n",
            "  16  45  15 -20  22 -11 -40 -45  11 -43 -28 -20  11  41  13 -18 -21 -39\n",
            "  29  17  40 -16   2 -43  12   0  -4  32 -15  38 -21  43   7 -42 -11  36\n",
            "   0  13 -42  24 -41 -50  49  40 -21 -18]\n",
            "[ 12  34 -13  10  21 -29  -7  37  39   7 -30 -28 -18  27 -19  37 -27  39\n",
            " -44 -46 -27 -19  38 -48  50  27  14 -18 -37 -49   3  49 -45   4 -40 -45\n",
            "   1 -40  42 -25  28  44  -6 -27  21  41  10 -48  29   3   1  -7  43  40\n",
            " -37  36  21  23  36 -25  26  10  17  -1   6  11  20  21 -39  24 -21  32\n",
            " -44  18  31  49   5  27  24 -34  -3  -6 -14  22  19  -6 -32  46 -32  35\n",
            "  -7 -47 -42   5  17  21 -35  12  27  47]\n",
            "[-26 -14  28 -21  13 -14  31  49  -8  14  -9  29  32  18 -24  19 -34 -10\n",
            "  20  -2 -25  36 -22  19  43  -3   9  -2 -38  16   2 -46   7 -10  38  32\n",
            " -25 -12  25 -24  36 -33  40 -13 -13  -1  44  40 -29 -22  45   4 -20 -39\n",
            "  10 -45 -19  27 -31   7 -46 -33 -48  26  16 -23 -46 -47  24  22  43 -41\n",
            " -44 -45  33   9  46 -35  18  29 -17  19  39  50 -44  41   3  34 -32  31\n",
            " -23  46  20  10  25 -18  33  -3 -45 -48]\n"
          ],
          "name": "stdout"
        }
      ]
    },
    {
      "cell_type": "markdown",
      "metadata": {
        "id": "ZOrIS0ZN6aFW"
      },
      "source": [
        "# Riempire una matrice di 4 righe e 3 colonne con interi pseudo-casuali compresi tra 1 e 9 (estremi inclusi). Per ciascuna riga della tabella visualizzare la somma degli interi presenti sulla riga e, successivamente, visualizzare la somma degli interi presenti su ciascuna colonna"
      ]
    },
    {
      "cell_type": "code",
      "metadata": {
        "id": "25F2X0u66iFU",
        "outputId": "0e72c3db-cc5c-4960-ecff-1ba29fc2da5c",
        "colab": {
          "base_uri": "https://localhost:8080/"
        }
      },
      "source": [
        "import numpy as np\n",
        "\n",
        "x = np.random.randint(1,10,(4,3))\n",
        "\n",
        "print(x)\n",
        "print(np.mean(x,axis=1))\n"
      ],
      "execution_count": 160,
      "outputs": [
        {
          "output_type": "stream",
          "text": [
            "[[3 8 4]\n",
            " [6 4 8]\n",
            " [2 3 3]\n",
            " [5 2 9]]\n",
            "[5.         6.         2.66666667 5.33333333]\n"
          ],
          "name": "stdout"
        }
      ]
    },
    {
      "cell_type": "markdown",
      "metadata": {
        "id": "WxPIwu5b6-pK"
      },
      "source": [
        "Riempire una matrice di 6 righe e 6 colonne con interi pseudo-casuali compresi tra 1 e 50 (estremi inclusi). Creare un nuovo vettore di rango 1 di 6 elementi\n",
        "contenente la somma degli elementi pari di ciascuna riga"
      ]
    },
    {
      "cell_type": "markdown",
      "metadata": {
        "id": "M442dKGt82aF"
      },
      "source": [
        ""
      ]
    },
    {
      "cell_type": "code",
      "metadata": {
        "id": "VB97pBqa7O6w",
        "outputId": "dd3495fe-aee1-4adc-f9eb-dd7a0da38aa8",
        "colab": {
          "base_uri": "https://localhost:8080/"
        }
      },
      "source": [
        "import numpy as np\n",
        "\n",
        "\n",
        "np.random.seed(22)\n",
        "mat = np.random.randint(1,51,(6,6))\n",
        "print(mat)\n",
        "sum = np.array([])\n",
        "for row in mat:\n",
        "  print(row,row[row%2==0],np.sum(row[row%2==0]))\n",
        "  sum = np.append(sum,np.sum(row[row%2==0]))\n",
        "print(sum)"
      ],
      "execution_count": 186,
      "outputs": [
        {
          "output_type": "stream",
          "text": [
            "[[ 5 45  1 37 39 44]\n",
            " [21  9 32 37 30 19]\n",
            " [15 46 25 30 40 35]\n",
            " [42  9 41  6 48 28]\n",
            " [21 35 30 19 18 39]\n",
            " [20 20  3 28  8 28]]\n",
            "[ 5 45  1 37 39 44] [44] 44\n",
            "[21  9 32 37 30 19] [32 30] 62\n",
            "[15 46 25 30 40 35] [46 30 40] 116\n",
            "[42  9 41  6 48 28] [42  6 48 28] 124\n",
            "[21 35 30 19 18 39] [30 18] 48\n",
            "[20 20  3 28  8 28] [20 20 28  8 28] 104\n",
            "[ 44.  62. 116. 124.  48. 104.]\n"
          ],
          "name": "stdout"
        }
      ]
    }
  ]
}