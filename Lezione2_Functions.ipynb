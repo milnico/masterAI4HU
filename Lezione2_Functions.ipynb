{
  "nbformat": 4,
  "nbformat_minor": 0,
  "metadata": {
    "colab": {
      "provenance": [],
      "include_colab_link": true
    },
    "kernelspec": {
      "display_name": "Python 3",
      "language": "python",
      "name": "python3"
    },
    "language_info": {
      "codemirror_mode": {
        "name": "ipython",
        "version": 3
      },
      "file_extension": ".py",
      "mimetype": "text/x-python",
      "name": "python",
      "nbconvert_exporter": "python",
      "pygments_lexer": "ipython3",
      "version": "3.7.6"
    }
  },
  "cells": [
    {
      "cell_type": "markdown",
      "metadata": {
        "id": "view-in-github",
        "colab_type": "text"
      },
      "source": [
        "<a href=\"https://colab.research.google.com/github/milnico/masterAI4HU/blob/main/Lezione2_Functions.ipynb\" target=\"_parent\"><img src=\"https://colab.research.google.com/assets/colab-badge.svg\" alt=\"Open In Colab\"/></a>"
      ]
    },
    {
      "cell_type": "markdown",
      "metadata": {
        "id": "kKkxOtfBG5XX"
      },
      "source": [
        "### **Functions**"
      ]
    },
    {
      "cell_type": "markdown",
      "metadata": {
        "id": "d78lMX8dcsc8"
      },
      "source": [
        "Why Functions?\n",
        "The purpose of today’s class is to introduce the basics of writing and running Python functions.\n",
        "Repeating code is painful.\n",
        "It is also hard to distinguish between the same code repeated three times and three different computations.\n",
        "It is easy to find a mistake in one copy of a section of code and forget to fix it in the other copies.\n",
        "\n",
        "Functions are extremely useful for writing complex programs:\n",
        "\n",
        "\n",
        "1.   They divide complex operations into a combination of simpler steps.\n",
        "2.   They make programs easier to read and debug by abstracting out frequently repeated code.\n",
        "\n",
        "\n"
      ]
    },
    {
      "cell_type": "markdown",
      "metadata": {
        "id": "MKTqkjpjdKfJ"
      },
      "source": [
        "a function\n",
        "\n",
        "\n",
        "\n",
        "*   Takes as input one or more arguments.\n",
        "*   Computes a new value, a string or a number.\n",
        "*   Returns the value, so that it can be assigned to a variable or output.\n",
        "\n",
        "Let’s recall this with a built-in function:"
      ]
    },
    {
      "cell_type": "code",
      "metadata": {
        "colab": {
          "base_uri": "https://localhost:8080/"
        },
        "id": "JwQhzwKxdlNU",
        "outputId": "f05a68bc-9c1c-42ef-9a7f-733b5b3fdeaa"
      },
      "source": [
        "nums = [2,4,5,6,7,12,34]\n",
        "len(nums) "
      ],
      "execution_count": null,
      "outputs": [
        {
          "output_type": "execute_result",
          "data": {
            "text/plain": [
              "7"
            ]
          },
          "metadata": {
            "tags": []
          },
          "execution_count": 1
        }
      ]
    },
    {
      "cell_type": "markdown",
      "metadata": {
        "id": "tcib772od7UG"
      },
      "source": [
        "\n",
        "**A Function to Compute the Area of a Circle**\n",
        "\n",
        "\n",
        "In mathematics, many functions are given as formulas. You might write a function to calculate the area of a circle as\n",
        "\n",
        "a(r)=πr2"
      ]
    },
    {
      "cell_type": "code",
      "metadata": {
        "id": "vc2Al8X4eOLV"
      },
      "source": [
        "def area_circle(radius):\n",
        "    pi = 3.14159\n",
        "    area = pi * radius**2\n",
        "    return area\n",
        "\n",
        "\n",
        "a = area_circle(1)\n",
        "print(a)\n",
        "print('A circle with radius 2 has area {:.2f}'.format(area_circle(2)))\n",
        "r = 75.1\n",
        "a = area_circle(r)\n",
        "print(\"A circle with radius {:.2f} has area {:.2f}\".format(r,a))"
      ],
      "execution_count": null,
      "outputs": []
    },
    {
      "cell_type": "markdown",
      "metadata": {
        "id": "y7sgqfV3edKl"
      },
      "source": [
        "What does Python do when we run this code?\n",
        "\n",
        "\n",
        "Reads the keyword def and notes that a function is being defined.\n",
        "\n",
        "The line that starts with def is called the function header.\n",
        "Reads the rest of the function definition, checking its syntax.\n",
        "\n",
        "Notes the end of the definition when the unindented code is reached.\n",
        "\n",
        "Sees the function call inside the assignment statement\n",
        "\n",
        "a = area_circle(1)\n",
        "at what’s known as the “top level” or “main level” of execution and\n",
        "\n",
        "Jumps back up to the function\n",
        "Assigns 1 to the parameter radius.\n",
        "Runs the code inside the function using radius as a variable inside the function.\n",
        "Returns the result of the calculation back to the top level and assigns the value 3.14159 to the variable a.\n",
        "Repeats the process of running the function at the second print(), this time with the parameter value 2 and therefore a new value for radius inside the function.\n",
        "\n",
        "Repeats the process of running the function right after we reassign a, this time with parameter value 75.1 taken from the variable r."
      ]
    },
    {
      "cell_type": "code",
      "metadata": {
        "id": "EJRZdFBYvsBs"
      },
      "source": [
        "x = 2\n",
        "y = 6*x**2 + 3*x + 2\n",
        "print(y)\n",
        "\n"
      ],
      "execution_count": null,
      "outputs": []
    },
    {
      "cell_type": "code",
      "metadata": {
        "id": "upXC0Crtvxpt"
      },
      "source": [
        "def f(x):\n",
        "    return 6*x**2 + 3*x + 2\n",
        "\n",
        "y = f(2)\n",
        "print(y)"
      ],
      "execution_count": null,
      "outputs": []
    },
    {
      "cell_type": "code",
      "metadata": {
        "colab": {
          "base_uri": "https://localhost:8080/"
        },
        "id": "DJXEMLLlwf97",
        "outputId": "dc87cce4-f224-4585-d00f-9931f5d499ff"
      },
      "source": [
        "# Define our 3 functions\n",
        "def my_function():\n",
        "    print(\"Hello From My Function!\")\n",
        "\n",
        "def my_function_with_args(username, greeting):\n",
        "    print(\"Hello, %s, From My Function!, I wish you %s\"%(username, greeting))\n",
        "\n",
        "def sum_two_numbers(x, y):\n",
        "    return x + y\n",
        "\n",
        "def expand_number(x):\n",
        "    y = x + 10\n",
        "    z = x + 20\n",
        "    k = x + 30 \n",
        "    return y,z,k\n",
        "\n",
        "# print(a simple greeting)\n",
        "my_function()\n",
        "\n",
        "#prints - \"Hello, John Doe, From My Function!, I wish you a great year!\"\n",
        "my_function_with_args(\"John Doe\", \"a great year!\")\n",
        "\n",
        "# after this line x will hold the value 3!\n",
        "x = sum_two_numbers(1,2)\n",
        "y,z,k = expand_number(12)\n",
        "a,b,c = expand_number(12)\n",
        "print(y,z,k)"
      ],
      "execution_count": null,
      "outputs": [
        {
          "output_type": "stream",
          "text": [
            "Hello From My Function!\n",
            "Hello, John Doe, From My Function!, I wish you a great year!\n",
            "22 32 42\n"
          ],
          "name": "stdout"
        }
      ]
    },
    {
      "cell_type": "code",
      "metadata": {
        "colab": {
          "base_uri": "https://localhost:8080/"
        },
        "id": "JyTIolnUG9w1",
        "outputId": "6f2d8b63-ad10-40fd-90ef-f19d0e261d69"
      },
      "source": [
        "def max_of_two( x, y ):\n",
        "    if x > y:\n",
        "        return x\n",
        "    return y\n",
        "def max_of_three( x, y, z ):\n",
        "    return max_of_two( x, max_of_two( y, z ) )\n",
        "\n",
        "\n",
        "print(max_of_three(3, 6, -5))\n",
        "\n",
        "val1=3\n",
        "val2=33\n",
        "y = max_of_two(val1,val2)\n",
        "print(y)"
      ],
      "execution_count": null,
      "outputs": [
        {
          "output_type": "stream",
          "text": [
            "6\n",
            "33\n"
          ],
          "name": "stdout"
        }
      ]
    },
    {
      "cell_type": "markdown",
      "metadata": {
        "id": "vHIN4Gt_HmDT"
      },
      "source": [
        "Write a Python function to sum all the numbers in a list.\n",
        "\n"
      ]
    },
    {
      "cell_type": "code",
      "metadata": {
        "id": "aekm7kxQHi9K"
      },
      "source": [
        "def sum(numbers):\n",
        "    \n",
        "\n",
        "nums = [8, 2, 3, 0, 7,12,54]\n"
      ],
      "execution_count": null,
      "outputs": []
    },
    {
      "cell_type": "markdown",
      "metadata": {
        "id": "iszzQKCzJvwa"
      },
      "source": [
        "Write a Python function to multiply all the numbers in a list.\n"
      ]
    },
    {
      "cell_type": "code",
      "metadata": {
        "id": "SbAiva3aJv7U"
      },
      "source": [
        "def multiply(numbers):  \n",
        "\n",
        "nums = [8, 2, 3, 0, 7,12,54]"
      ],
      "execution_count": null,
      "outputs": []
    },
    {
      "cell_type": "markdown",
      "metadata": {
        "id": "ArH9xIKWJ3MW"
      },
      "source": [
        "Write a Python program to reverse a string.\n",
        "\n"
      ]
    },
    {
      "cell_type": "code",
      "metadata": {
        "id": "U7lXXoYzJ3WY",
        "colab": {
          "base_uri": "https://localhost:8080/"
        },
        "outputId": "4eaf61be-1ae2-4833-907a-65333deec40b"
      },
      "source": [
        "def string_reverse(str1):\n",
        "\n",
        "string_to_reverse = '1234abcd'\n"
      ],
      "execution_count": null,
      "outputs": [
        {
          "output_type": "stream",
          "text": [
            "dcba4321\n"
          ],
          "name": "stdout"
        }
      ]
    },
    {
      "cell_type": "markdown",
      "metadata": {
        "id": "h73hTHO9J3ns"
      },
      "source": [
        "\n",
        "Write a Python program to count how many numbers are between two integers\n"
      ]
    },
    {
      "cell_type": "code",
      "metadata": {
        "colab": {
          "base_uri": "https://localhost:8080/",
          "height": 197
        },
        "id": "mBkkz8IdJ3va",
        "outputId": "79ffaed2-f4c1-43d8-94f0-9c5228a882e9"
      },
      "source": [
        "def func(x,y):\n",
        "  count = 0\n",
        "  #for,while \n",
        "\n",
        "  return count\n",
        "\n",
        "val1 = 12\n",
        "val2 = 134\n",
        "print(func())"
      ],
      "execution_count": null,
      "outputs": [
        {
          "output_type": "error",
          "ename": "TypeError",
          "evalue": "ignored",
          "traceback": [
            "\u001b[0;31m---------------------------------------------------------------------------\u001b[0m",
            "\u001b[0;31mTypeError\u001b[0m                                 Traceback (most recent call last)",
            "\u001b[0;32m<ipython-input-2-9ff2c0f53601>\u001b[0m in \u001b[0;36m<module>\u001b[0;34m()\u001b[0m\n\u001b[1;32m      7\u001b[0m \u001b[0mval1\u001b[0m \u001b[0;34m=\u001b[0m \u001b[0;36m12\u001b[0m\u001b[0;34m\u001b[0m\u001b[0;34m\u001b[0m\u001b[0m\n\u001b[1;32m      8\u001b[0m \u001b[0mval2\u001b[0m \u001b[0;34m=\u001b[0m \u001b[0;36m134\u001b[0m\u001b[0;34m\u001b[0m\u001b[0;34m\u001b[0m\u001b[0m\n\u001b[0;32m----> 9\u001b[0;31m \u001b[0mprint\u001b[0m\u001b[0;34m(\u001b[0m\u001b[0mfunc\u001b[0m\u001b[0;34m(\u001b[0m\u001b[0;34m)\u001b[0m\u001b[0;34m)\u001b[0m\u001b[0;34m\u001b[0m\u001b[0;34m\u001b[0m\u001b[0m\n\u001b[0m",
            "\u001b[0;31mTypeError\u001b[0m: func() missing 2 required positional arguments: 'x' and 'y'"
          ]
        }
      ]
    },
    {
      "cell_type": "markdown",
      "metadata": {
        "id": "z8oP5Ov7LyJq"
      },
      "source": [
        "Write a Python function to create and print a list where the values are the square of numbers between x = start and y = end \n"
      ]
    },
    {
      "cell_type": "code",
      "metadata": {
        "id": "QXYBbYN6LyRJ",
        "colab": {
          "base_uri": "https://localhost:8080/"
        },
        "outputId": "28c1c108-d741-41c4-c789-478f16f31713"
      },
      "source": [
        "\n",
        "def createList(start,end):\n",
        "\n",
        "\t\t\n",
        "createList()"
      ],
      "execution_count": null,
      "outputs": [
        {
          "output_type": "stream",
          "text": [
            "[144, 169, 196, 225, 256, 289, 324, 361, 400, 441, 484, 529]\n"
          ],
          "name": "stdout"
        }
      ]
    },
    {
      "cell_type": "markdown",
      "metadata": {
        "id": "GVk-F-osL-Vr"
      },
      "source": [
        "Write a Python function to check whether a number is even and store it in a new array.\n",
        "\n"
      ]
    },
    {
      "cell_type": "code",
      "metadata": {
        "id": "2FeE26BgL-e7",
        "colab": {
          "base_uri": "https://localhost:8080/"
        },
        "outputId": "2d9d3093-705b-4d08-c174-f1d1d20142d8"
      },
      "source": [
        "def is_even_num(l):\n",
        "    \n",
        "nums = [1, 2, 3, 4, 5, 6, 7, 8, 9]"
      ],
      "execution_count": null,
      "outputs": [
        {
          "output_type": "stream",
          "text": [
            "[2, 4, 6, 8]\n"
          ],
          "name": "stdout"
        }
      ]
    },
    {
      "cell_type": "markdown",
      "metadata": {
        "id": "cN-HdLm-MOh8"
      },
      "source": [
        "Write a Python program to count the number of even and odd numbers from a series of numbers.\n",
        "\n"
      ]
    },
    {
      "cell_type": "code",
      "metadata": {
        "id": "QTskAqzlMOt_",
        "colab": {
          "base_uri": "https://localhost:8080/"
        },
        "outputId": "4d8ea1c6-2a79-4baf-e973-c50b7929da37"
      },
      "source": [
        "numbers = [1, 2, 3, 4, 5, 6, 7, 8, 9] # Declaring the tuple\n"
      ],
      "execution_count": null,
      "outputs": [
        {
          "output_type": "stream",
          "text": [
            "Number of even numbers : 4\n",
            "Number of odd numbers : 5\n"
          ],
          "name": "stdout"
        }
      ]
    },
    {
      "cell_type": "markdown",
      "metadata": {
        "id": "9EpnXlT0Nbhq"
      },
      "source": [
        "Write a Python program to get the Fibonacci series between 0 to 50.\n",
        "\n"
      ]
    },
    {
      "cell_type": "code",
      "metadata": {
        "id": "IEhU2GSUNcTc"
      },
      "source": [],
      "execution_count": null,
      "outputs": []
    }
  ]
}