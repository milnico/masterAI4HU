{
  "nbformat": 4,
  "nbformat_minor": 0,
  "metadata": {
    "colab": {
      "name": "Lezione2_functions.ipynb",
      "provenance": [],
      "collapsed_sections": [],
      "include_colab_link": true
    },
    "kernelspec": {
      "display_name": "Python 3",
      "language": "python",
      "name": "python3"
    },
    "language_info": {
      "codemirror_mode": {
        "name": "ipython",
        "version": 3
      },
      "file_extension": ".py",
      "mimetype": "text/x-python",
      "name": "python",
      "nbconvert_exporter": "python",
      "pygments_lexer": "ipython3",
      "version": "3.7.6"
    }
  },
  "cells": [
    {
      "cell_type": "markdown",
      "metadata": {
        "id": "view-in-github",
        "colab_type": "text"
      },
      "source": [
        "<a href=\"https://colab.research.google.com/github/milnico/masterAI4HU/blob/main/Lezione2_functions_svolta.ipynb\" target=\"_parent\"><img src=\"https://colab.research.google.com/assets/colab-badge.svg\" alt=\"Open In Colab\"/></a>"
      ]
    },
    {
      "cell_type": "markdown",
      "metadata": {
        "id": "kKkxOtfBG5XX"
      },
      "source": [
        "### **Functions**"
      ]
    },
    {
      "cell_type": "markdown",
      "metadata": {
        "id": "d78lMX8dcsc8"
      },
      "source": [
        "Why Functions?\n",
        "The purpose of today’s class is to introduce the basics of writing and running Python functions.\n",
        "Repeating code is painful.\n",
        "It is also hard to distinguish between the same code repeated three times and three different computations.\n",
        "It is easy to find a mistake in one copy of a section of code and forget to fix it in the other copies.\n",
        "\n",
        "Functions are extremely useful for writing complex programs:\n",
        "\n",
        "\n",
        "1.   They divide complex operations into a combination of simpler steps.\n",
        "2.   They make programs easier to read and debug by abstracting out frequently repeated code.\n",
        "\n",
        "\n"
      ]
    },
    {
      "cell_type": "markdown",
      "metadata": {
        "id": "MKTqkjpjdKfJ"
      },
      "source": [
        "a function\n",
        "\n",
        "\n",
        "\n",
        "*   Takes as input one or more arguments.\n",
        "*   Computes a new value, a string or a number.\n",
        "*   Returns the value, so that it can be assigned to a variable or output.\n",
        "\n",
        "Let’s recall this with a built-in function:"
      ]
    },
    {
      "cell_type": "code",
      "metadata": {
        "colab": {
          "base_uri": "https://localhost:8080/"
        },
        "id": "JwQhzwKxdlNU",
        "outputId": "cb7e2f1d-d0d9-4785-971a-3968158ea6d5"
      },
      "source": [
        "nums = [2,4,5,6,7,12,34]\n",
        "len(nums) "
      ],
      "execution_count": null,
      "outputs": [
        {
          "output_type": "execute_result",
          "data": {
            "text/plain": [
              "7"
            ]
          },
          "metadata": {
            "tags": []
          },
          "execution_count": 1
        }
      ]
    },
    {
      "cell_type": "markdown",
      "metadata": {
        "id": "tcib772od7UG"
      },
      "source": [
        "\n",
        "**A Function to Compute the Area of a Circle**\n",
        "\n",
        "\n",
        "In mathematics, many functions are given as formulas. You might write a function to calculate the area of a circle as\n",
        "\n",
        "a(r)=πr2"
      ]
    },
    {
      "cell_type": "code",
      "metadata": {
        "id": "vc2Al8X4eOLV",
        "colab": {
          "base_uri": "https://localhost:8080/"
        },
        "outputId": "9566cde5-0b0c-4f41-f52e-a940a4504ff3"
      },
      "source": [
        "def area_circle(radius):\n",
        "    pi = 3.14159\n",
        "    area = pi * radius**2\n",
        "    return area\n",
        "\n",
        "a = area_circle(1)\n",
        "print(a)\n",
        "print('A circle with radius 2 has area {:.2f}'.format(area_circle(2)))\n",
        "r = 75.1\n",
        "a = area_circle(r)\n",
        "print(\"A circle with radius {:.2f} has area {:.2f}\".format(r,a))"
      ],
      "execution_count": null,
      "outputs": [
        {
          "output_type": "stream",
          "text": [
            "3.14159\n",
            "A circle with radius 2 has area 12.57\n",
            "A circle with radius 75.10 has area 17718.60\n"
          ],
          "name": "stdout"
        }
      ]
    },
    {
      "cell_type": "markdown",
      "metadata": {
        "id": "y7sgqfV3edKl"
      },
      "source": [
        "What does Python do when we run this code?\n",
        "\n",
        "\n",
        "Reads the keyword def and notes that a function is being defined.\n",
        "\n",
        "The line that starts with def is called the function header.\n",
        "Reads the rest of the function definition, checking its syntax.\n",
        "\n",
        "Notes the end of the definition when the unindented code is reached.\n",
        "\n",
        "Sees the function call inside the assignment statement\n",
        "\n",
        "a = area_circle(1)\n",
        "at what’s known as the “top level” or “main level” of execution and\n",
        "\n",
        "Jumps back up to the function\n",
        "Assigns 1 to the parameter radius.\n",
        "Runs the code inside the function using radius as a variable inside the function.\n",
        "Returns the result of the calculation back to the top level and assigns the value 3.14159 to the variable a.\n",
        "Repeats the process of running the function at the second print(), this time with the parameter value 2 and therefore a new value for radius inside the function.\n",
        "\n",
        "Repeats the process of running the function right after we reassign a, this time with parameter value 75.1 taken from the variable r."
      ]
    },
    {
      "cell_type": "code",
      "metadata": {
        "id": "EJRZdFBYvsBs"
      },
      "source": [
        "x = 2\n",
        "y = 6*x**2 + 3*x + 2\n",
        "print y\n",
        "\n"
      ],
      "execution_count": null,
      "outputs": []
    },
    {
      "cell_type": "code",
      "metadata": {
        "id": "upXC0Crtvxpt"
      },
      "source": [
        "def f(x):\n",
        "    return 6*x**2 + 3*x + 2\n",
        "\n",
        "y = f(2)\n",
        "print y"
      ],
      "execution_count": null,
      "outputs": []
    },
    {
      "cell_type": "code",
      "metadata": {
        "colab": {
          "base_uri": "https://localhost:8080/"
        },
        "id": "DJXEMLLlwf97",
        "outputId": "dc87cce4-f224-4585-d00f-9931f5d499ff"
      },
      "source": [
        "# Define our 3 functions\n",
        "def my_function():\n",
        "    print(\"Hello From My Function!\")\n",
        "\n",
        "def my_function_with_args(username, greeting):\n",
        "    print(\"Hello, %s, From My Function!, I wish you %s\"%(username, greeting))\n",
        "\n",
        "def sum_two_numbers(x, y):\n",
        "    return x + y\n",
        "\n",
        "def expand_number(x):\n",
        "    y = x + 10\n",
        "    z = x + 20\n",
        "    k = x + 30 \n",
        "    return y,z,k\n",
        "\n",
        "# print(a simple greeting)\n",
        "my_function()\n",
        "\n",
        "#prints - \"Hello, John Doe, From My Function!, I wish you a great year!\"\n",
        "my_function_with_args(\"John Doe\", \"a great year!\")\n",
        "\n",
        "# after this line x will hold the value 3!\n",
        "x = sum_two_numbers(1,2)\n",
        "y,z,k = expand_number(12)\n",
        "a,b,c = expand_number(12)\n",
        "print(y,z,k)"
      ],
      "execution_count": null,
      "outputs": [
        {
          "output_type": "stream",
          "text": [
            "Hello From My Function!\n",
            "Hello, John Doe, From My Function!, I wish you a great year!\n",
            "22 32 42\n"
          ],
          "name": "stdout"
        }
      ]
    },
    {
      "cell_type": "code",
      "metadata": {
        "colab": {
          "base_uri": "https://localhost:8080/"
        },
        "id": "JyTIolnUG9w1",
        "outputId": "6f2d8b63-ad10-40fd-90ef-f19d0e261d69"
      },
      "source": [
        "def max_of_two( x, y ):\n",
        "    if x > y:\n",
        "        return x\n",
        "    return y\n",
        "def max_of_three( x, y, z ):\n",
        "    return max_of_two( x, max_of_two( y, z ) )\n",
        "\n",
        "\n",
        "print(max_of_three(3, 6, -5))\n",
        "\n",
        "val1=3\n",
        "val2=33\n",
        "y = max_of_two(val1,val2)\n",
        "print(y)"
      ],
      "execution_count": null,
      "outputs": [
        {
          "output_type": "stream",
          "text": [
            "6\n",
            "33\n"
          ],
          "name": "stdout"
        }
      ]
    },
    {
      "cell_type": "markdown",
      "metadata": {
        "id": "vHIN4Gt_HmDT"
      },
      "source": [
        "Write a Python function to sum all the numbers in a list.\n",
        "\n"
      ]
    },
    {
      "cell_type": "code",
      "metadata": {
        "colab": {
          "base_uri": "https://localhost:8080/"
        },
        "id": "aekm7kxQHi9K",
        "outputId": "ec3db901-538f-4b69-960a-c6f9215082e2"
      },
      "source": [
        "def sum(numbers):\n",
        "    total = 0\n",
        "    for x in numbers:\n",
        "        total += x\n",
        "    return total\n",
        "\n",
        "nums = [8, 2, 3, 0, 7]\n",
        "print(sum(nums))"
      ],
      "execution_count": null,
      "outputs": [
        {
          "output_type": "stream",
          "text": [
            "20\n"
          ],
          "name": "stdout"
        }
      ]
    },
    {
      "cell_type": "markdown",
      "metadata": {
        "id": "iszzQKCzJvwa"
      },
      "source": [
        "Write a Python function to multiply all the numbers in a list.\n"
      ]
    },
    {
      "cell_type": "code",
      "metadata": {
        "id": "SbAiva3aJv7U"
      },
      "source": [
        "def multiply(numbers):  \n",
        "    total = 1\n",
        "    for x in numbers:\n",
        "        total *= x  \n",
        "    return total  \n",
        "print(multiply((8, 2, 3, -1, 7)))"
      ],
      "execution_count": null,
      "outputs": []
    },
    {
      "cell_type": "markdown",
      "metadata": {
        "id": "ArH9xIKWJ3MW"
      },
      "source": [
        "Write a Python program to reverse a string.\n",
        "\n"
      ]
    },
    {
      "cell_type": "code",
      "metadata": {
        "id": "U7lXXoYzJ3WY",
        "colab": {
          "base_uri": "https://localhost:8080/"
        },
        "outputId": "68f832a7-0bf4-4f76-b052-4105950a5893"
      },
      "source": [
        "def string_reverse(str1):\n",
        "\n",
        "    rstr1 = ''\n",
        "    index = len(str1)\n",
        "    while index > 0:\n",
        "        rstr1 += str1[ index - 1 ]\n",
        "        index = index - 1\n",
        "    return rstr1\n",
        "    \n",
        "print(string_reverse('1234abcd'))"
      ],
      "execution_count": null,
      "outputs": [
        {
          "output_type": "stream",
          "text": [
            "dcba4321\n"
          ],
          "name": "stdout"
        }
      ]
    },
    {
      "cell_type": "code",
      "metadata": {
        "id": "7rocJPT29WhC",
        "colab": {
          "base_uri": "https://localhost:8080/"
        },
        "outputId": "e140aef4-6c11-48d2-9c7c-2c19346a022d"
      },
      "source": [
        "s = '1234abcd'\n",
        "print(s[::-1])"
      ],
      "execution_count": null,
      "outputs": [
        {
          "output_type": "stream",
          "text": [
            "dcba4321\n"
          ],
          "name": "stdout"
        }
      ]
    },
    {
      "cell_type": "markdown",
      "metadata": {
        "id": "h73hTHO9J3ns"
      },
      "source": [
        "\n",
        "Write a Python program to count how many numbers are between two integers\n"
      ]
    },
    {
      "cell_type": "code",
      "metadata": {
        "colab": {
          "base_uri": "https://localhost:8080/",
          "height": 202
        },
        "id": "mBkkz8IdJ3va",
        "outputId": "407ceb7b-eff1-44e3-d312-e8a3c6fa17e9"
      },
      "source": [
        "def func(x,y):\n",
        "  count = 0\n",
        "  #for,while \n",
        "\n",
        "  return count\n",
        "\n",
        "val1 = 12\n",
        "val2 = 134\n",
        "print(func())"
      ],
      "execution_count": null,
      "outputs": [
        {
          "output_type": "error",
          "ename": "TypeError",
          "evalue": "ignored",
          "traceback": [
            "\u001b[0;31m---------------------------------------------------------------------------\u001b[0m",
            "\u001b[0;31mTypeError\u001b[0m                                 Traceback (most recent call last)",
            "\u001b[0;32m<ipython-input-3-9ff2c0f53601>\u001b[0m in \u001b[0;36m<module>\u001b[0;34m()\u001b[0m\n\u001b[1;32m      7\u001b[0m \u001b[0mval1\u001b[0m \u001b[0;34m=\u001b[0m \u001b[0;36m12\u001b[0m\u001b[0;34m\u001b[0m\u001b[0;34m\u001b[0m\u001b[0m\n\u001b[1;32m      8\u001b[0m \u001b[0mval2\u001b[0m \u001b[0;34m=\u001b[0m \u001b[0;36m134\u001b[0m\u001b[0;34m\u001b[0m\u001b[0;34m\u001b[0m\u001b[0m\n\u001b[0;32m----> 9\u001b[0;31m \u001b[0mprint\u001b[0m\u001b[0;34m(\u001b[0m\u001b[0mfunc\u001b[0m\u001b[0;34m(\u001b[0m\u001b[0;34m)\u001b[0m\u001b[0;34m)\u001b[0m\u001b[0;34m\u001b[0m\u001b[0;34m\u001b[0m\u001b[0m\n\u001b[0m",
            "\u001b[0;31mTypeError\u001b[0m: func() missing 2 required positional arguments: 'x' and 'y'"
          ]
        }
      ]
    },
    {
      "cell_type": "markdown",
      "metadata": {
        "id": "z8oP5Ov7LyJq"
      },
      "source": [
        "Write a Python function to create and print a list where the values are square of numbers between 1 and 30 (both included).\n"
      ]
    },
    {
      "cell_type": "code",
      "metadata": {
        "id": "QXYBbYN6LyRJ"
      },
      "source": [
        "\n",
        "def printValues():\n",
        "\tl = list()\n",
        "\tfor i in range(1,21):\n",
        "\t\tl.append(i**2)\n",
        "\tprint(l)\n",
        "\t\t\n",
        "printValues()"
      ],
      "execution_count": null,
      "outputs": []
    },
    {
      "cell_type": "markdown",
      "metadata": {
        "id": "GVk-F-osL-Vr"
      },
      "source": [
        "Write a Python function to check whether a number is even and store it in a new array.\n",
        "\n"
      ]
    },
    {
      "cell_type": "code",
      "metadata": {
        "id": "2FeE26BgL-e7",
        "colab": {
          "base_uri": "https://localhost:8080/"
        },
        "outputId": "ba63cbac-79f2-4fac-fdf4-f4aef09fb2a1"
      },
      "source": [
        "def is_even_num(l):\n",
        "    enum = []\n",
        "    for n in l:\n",
        "        if n % 2 == 0:\n",
        "            enum.append(n)\n",
        "    return enum\n",
        "print(is_even_num([1, 2, 3, 4, 5, 6, 7, 8, 9]))"
      ],
      "execution_count": null,
      "outputs": [
        {
          "output_type": "stream",
          "text": [
            "[2, 4, 6, 8]\n"
          ],
          "name": "stdout"
        }
      ]
    },
    {
      "cell_type": "markdown",
      "metadata": {
        "id": "cN-HdLm-MOh8"
      },
      "source": [
        "Write a Python program to count the number of even and odd numbers from a series of numbers.\n",
        "\n"
      ]
    },
    {
      "cell_type": "code",
      "metadata": {
        "id": "QTskAqzlMOt_"
      },
      "source": [
        "numbers = (1, 2, 3, 4, 5, 6, 7, 8, 9) # Declaring the tuple\n",
        "count_odd = 0\n",
        "count_even = 0\n",
        "for x in numbers:\n",
        "        if not x % 2:\n",
        "    \t     count_even+=1\n",
        "        else:\n",
        "    \t     count_odd+=1\n",
        "print(\"Number of even numbers :\",count_even)\n",
        "print(\"Number of odd numbers :\",count_odd)"
      ],
      "execution_count": null,
      "outputs": []
    },
    {
      "cell_type": "markdown",
      "metadata": {
        "id": "9EpnXlT0Nbhq"
      },
      "source": [
        "Write a Python program to get the Fibonacci series between 0 to 50.\n",
        "\n"
      ]
    },
    {
      "cell_type": "code",
      "metadata": {
        "id": "IEhU2GSUNcTc"
      },
      "source": [
        "x,y=0,1\n",
        "\n",
        "while y<50:\n",
        "    print(y)\n",
        "    x,y = y,x+y"
      ],
      "execution_count": null,
      "outputs": []
    }
  ]
}