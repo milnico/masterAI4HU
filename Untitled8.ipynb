{
  "nbformat": 4,
  "nbformat_minor": 0,
  "metadata": {
    "colab": {
      "provenance": [],
      "authorship_tag": "ABX9TyMwdl3AYhjLawBeCr9kb9k/",
      "include_colab_link": true
    },
    "kernelspec": {
      "name": "python3",
      "display_name": "Python 3"
    },
    "language_info": {
      "name": "python"
    }
  },
  "cells": [
    {
      "cell_type": "markdown",
      "metadata": {
        "id": "view-in-github",
        "colab_type": "text"
      },
      "source": [
        "<a href=\"https://colab.research.google.com/github/milnico/masterAI4HU/blob/main/Untitled8.ipynb\" target=\"_parent\"><img src=\"https://colab.research.google.com/assets/colab-badge.svg\" alt=\"Open In Colab\"/></a>"
      ]
    },
    {
      "cell_type": "markdown",
      "source": [
        "get the maximum from the nums lists\n",
        "\n"
      ],
      "metadata": {
        "id": "mCvqOd3Dw8ep"
      }
    },
    {
      "cell_type": "code",
      "source": [
        "nums = [12, 15, 32, 42, 55, 75, 122, 132, 150, 180, 200]"
      ],
      "metadata": {
        "id": "xmDiH6nFw8QD"
      },
      "execution_count": null,
      "outputs": []
    },
    {
      "cell_type": "markdown",
      "source": [
        "get the minimum from the nums lists"
      ],
      "metadata": {
        "id": "CI3I4bGyxCe2"
      }
    },
    {
      "cell_type": "code",
      "source": [
        "nums = [12, 15, 32, 42, 55, 75, 122, 132, 150, 180, 200]"
      ],
      "metadata": {
        "id": "OI41u2-yxEpu"
      },
      "execution_count": null,
      "outputs": []
    },
    {
      "cell_type": "markdown",
      "source": [
        "sum all the elements of nums using for and while\n",
        "\n",
        "get the mean value from nums"
      ],
      "metadata": {
        "id": "dY7SiVipuePv"
      }
    },
    {
      "cell_type": "code",
      "execution_count": null,
      "metadata": {
        "id": "AmkBQN5puYqz"
      },
      "outputs": [],
      "source": [
        "nums = [12, 15, 32, 42, 55, 75, 122, 132, 150, 180, 200]\n"
      ]
    },
    {
      "cell_type": "markdown",
      "source": [
        "sum only the element smaller than 1000 from nums using and\n",
        "get their mean"
      ],
      "metadata": {
        "id": "AGBx1g8gxKIs"
      }
    },
    {
      "cell_type": "code",
      "source": [
        "nums = [12, 15, 32, 42, 55, 75, 122, 132, 150, 180, 200]\n"
      ],
      "metadata": {
        "id": "BJMS5XYixJ6b"
      },
      "execution_count": null,
      "outputs": []
    },
    {
      "cell_type": "markdown",
      "source": [
        "get the mean of boys' age and get the names of the elder and the younger children in general"
      ],
      "metadata": {
        "id": "MnAwOhp1ucXV"
      }
    },
    {
      "cell_type": "code",
      "source": [
        "names = [\"Ezio\", \"Maria\", \"Pamela\", \"Carlo\", \"Fulvio\", \"Carmela\", \"Paola\"]\n",
        "age = [12, 14, 10, 9, 11, 12, 13]\n"
      ],
      "metadata": {
        "id": "6dOvTSzwucs0"
      },
      "execution_count": null,
      "outputs": []
    }
  ]
}