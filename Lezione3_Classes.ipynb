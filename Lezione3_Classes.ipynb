{
  "nbformat": 4,
  "nbformat_minor": 0,
  "metadata": {
    "colab": {
      "name": "Lezione3 Classes.ipynb",
      "provenance": [],
      "include_colab_link": true
    },
    "kernelspec": {
      "display_name": "Python 3",
      "language": "python",
      "name": "python3"
    },
    "language_info": {
      "codemirror_mode": {
        "name": "ipython",
        "version": 3
      },
      "file_extension": ".py",
      "mimetype": "text/x-python",
      "name": "python",
      "nbconvert_exporter": "python",
      "pygments_lexer": "ipython3",
      "version": "3.7.6"
    }
  },
  "cells": [
    {
      "cell_type": "markdown",
      "metadata": {
        "id": "view-in-github",
        "colab_type": "text"
      },
      "source": [
        "<a href=\"https://colab.research.google.com/github/milnico/masterAI4HU/blob/main/Lezione3_Classes.ipynb\" target=\"_parent\"><img src=\"https://colab.research.google.com/assets/colab-badge.svg\" alt=\"Open In Colab\"/></a>"
      ]
    },
    {
      "cell_type": "markdown",
      "metadata": {
        "id": "sTYIG_I-nHkr"
      },
      "source": [
        "# **Classes**\n",
        "\n",
        "Python is an object-oriented programming language. Object-oriented\n",
        "programming (OOP) focuses on creating reusable patterns of code, in\n",
        "contrast to procedural programming, which focuses on explicit\n",
        "sequenced instructions. \n",
        "\n",
        "When working on complex programs in\n",
        "particular, object-oriented programming lets you reuse code and write\n",
        "code that is more readable, which in turn makes it more maintainable.\n",
        "One of the most important concepts in object-oriented programming is\n",
        "the distinction between classes and objects, which are defined as follows:\n",
        "\n",
        "Class — A blueprint created by a programmer for an object. This\n",
        "defines a set of attributes that will characterize any object that is\n",
        "instantiated from this class.\n",
        "\n",
        "\n",
        "Object — An instance of a class. This is the realized version of the\n",
        "class, where the class is manifested in the program.\n",
        "\n",
        "\n",
        "These are used to create patterns (in the case of classes) and then make\n",
        "use of the patterns (in the case of objects).\n",
        "In this tutorial, we’ll go through creating classes, instantiating objects,\n",
        "initializing attributes with the constructor method, and working with\n",
        "more than one object of the same class."
      ]
    },
    {
      "cell_type": "markdown",
      "metadata": {
        "id": "YzkYQmeEtdQX"
      },
      "source": [
        "**Rectangle Class**\n",
        "\n",
        "Simplest step is to just tell Python that Rectangle will exist as a class, deferring the addition of information until later.\n",
        "\n",
        "\n",
        "The Python reserved word pass says that this is the end of the class definition.\n",
        "\n",
        "We will not need this later when we put information into the class.\n",
        "\n",
        "**Attributes**\n",
        "\n",
        "Classes do not get interesting until we put something in them.\n",
        "The first thing we want is variables so that we can put data into a class.\n",
        "In Python these variables are often called attributes.\n",
        "Other languages call them member variables.\n",
        "We will see three different ways to specify attributes."
      ]
    },
    {
      "cell_type": "code",
      "metadata": {
        "id": "7mTtoN1zuRxw"
      },
      "source": [
        "class Rectangle(object):\n",
        "    pass"
      ],
      "execution_count": null,
      "outputs": []
    },
    {
      "cell_type": "code",
      "metadata": {
        "id": "srcj-IeeuW0W"
      },
      "source": [
        "class Rectangle(object):\n",
        "    def __init__( self, b0, h0 ):\n",
        "        self.b = b0\n",
        "        self.h = h0\n",
        "\n",
        "r = Rectangle(10,5)\n",
        "r_2 = Rectangle(12,15)"
      ],
      "execution_count": null,
      "outputs": []
    },
    {
      "cell_type": "markdown",
      "metadata": {
        "id": "Ga2aQCeDuorg"
      },
      "source": [
        "Defining the Attributes Through An Initializer / Constructor\n",
        "\n",
        "Python uses names that start and end with two '_' to indicate functions with special meanings. \n",
        "The name self is special notation to indicate that the object itself is passed to the function.\n",
        "\n",
        "If we’d like to initialize the point to (10,20) without passing these values to the constructor every time then we can specify default arguments\n"
      ]
    },
    {
      "cell_type": "code",
      "metadata": {
        "id": "HUvADO8Uvh4U"
      },
      "source": [
        "class Rectangle(object):\n",
        "    def __init__( self, b0=10, h0=20 ):\n",
        "        self.b = b0\n",
        "        self.h = h0"
      ],
      "execution_count": null,
      "outputs": []
    },
    {
      "cell_type": "code",
      "metadata": {
        "colab": {
          "base_uri": "https://localhost:8080/"
        },
        "id": "AMPCaJuJvnVt",
        "outputId": "bcc0fb5f-c38b-4d98-94ab-d42f8f88a81c"
      },
      "source": [
        "class Rectangle(object):\n",
        "    def __init__( self, b0=10, h0=20 ):\n",
        "        self.b = b0\n",
        "        self.h = h0\n",
        "    def area(self):\n",
        "        return self.b*self.h\n",
        "\n",
        "\n",
        "r = Rectangle()\n",
        "r.area()"
      ],
      "execution_count": null,
      "outputs": [
        {
          "output_type": "execute_result",
          "data": {
            "text/plain": [
              "200"
            ]
          },
          "metadata": {
            "tags": []
          },
          "execution_count": 2
        }
      ]
    },
    {
      "cell_type": "markdown",
      "metadata": {
        "id": "o1HMIozGvn_0"
      },
      "source": [
        "Add the method perimeter to class Rectangle\n",
        "\n"
      ]
    },
    {
      "cell_type": "code",
      "metadata": {
        "id": "CUcwa0hawLCT"
      },
      "source": [],
      "execution_count": null,
      "outputs": []
    },
    {
      "cell_type": "code",
      "metadata": {
        "colab": {
          "base_uri": "https://localhost:8080/"
        },
        "id": "ECgbSXLswMPV",
        "outputId": "1c17beb5-e315-42d9-d4ac-da8cae444235"
      },
      "source": [
        "class Person(object):\n",
        "  def __init__(self, fname, lname):\n",
        "    self.firstname = fname\n",
        "    self.lastname = lname\n",
        "\n",
        "  def printname(self):\n",
        "    print(self.firstname, self.lastname)\n",
        "\n",
        "#Use the Person class to create an object, and then execute the printname method:\n",
        "\n",
        "\n",
        "\n",
        "\n",
        "class Student(Person):\n",
        "  def __init__(self, fname, lname, year):\n",
        "    super().__init__(fname, lname)\n",
        "    self.graduationyear = year\n",
        "\n",
        "  def welcome(self):\n",
        "    print(\"Welcome\", self.firstname, self.lastname, \"to the class of\", self.graduationyear)\n",
        "\n",
        "\n",
        "x = Student(\"Giacomo\", \"Poretti\", 2019)\n",
        "x.graduationyear\n",
        "x.firstname\n",
        "x.welcome()"
      ],
      "execution_count": null,
      "outputs": [
        {
          "output_type": "stream",
          "text": [
            "Welcome Mike Olsen to the class of 2019\n"
          ],
          "name": "stdout"
        }
      ]
    },
    {
      "cell_type": "markdown",
      "metadata": {
        "id": "4oR1S264BPNZ"
      },
      "source": [
        "Write a Class Square that inherit from rectangle and add a method diagonal to Square"
      ]
    }
  ]
}