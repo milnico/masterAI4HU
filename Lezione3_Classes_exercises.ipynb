{
  "nbformat": 4,
  "nbformat_minor": 0,
  "metadata": {
    "colab": {
      "provenance": [],
      "include_colab_link": true
    },
    "kernelspec": {
      "display_name": "Python 3",
      "language": "python",
      "name": "python3"
    },
    "language_info": {
      "codemirror_mode": {
        "name": "ipython",
        "version": 3
      },
      "file_extension": ".py",
      "mimetype": "text/x-python",
      "name": "python",
      "nbconvert_exporter": "python",
      "pygments_lexer": "ipython3",
      "version": "3.7.6"
    }
  },
  "cells": [
    {
      "cell_type": "markdown",
      "metadata": {
        "id": "view-in-github",
        "colab_type": "text"
      },
      "source": [
        "<a href=\"https://colab.research.google.com/github/milnico/masterAI4HU/blob/main/Lezione3_Classes_exercises.ipynb\" target=\"_parent\"><img src=\"https://colab.research.google.com/assets/colab-badge.svg\" alt=\"Open In Colab\"/></a>"
      ]
    },
    {
      "cell_type": "markdown",
      "source": [
        "Write a Class Square that inherit from rectangle and add a method diagonal to Square"
      ],
      "metadata": {
        "id": "pTt_TE6qrSHH"
      }
    },
    {
      "cell_type": "code",
      "source": [],
      "metadata": {
        "id": "V-Dp2g34rR0-"
      },
      "execution_count": null,
      "outputs": []
    },
    {
      "cell_type": "markdown",
      "source": [
        "Create a Python class Person with attributes: name and age of type string.\n",
        "\n",
        "Create a display() method that displays the name and age of an object created via the Person class.\n",
        "\n",
        "Create a child class Student  which inherits from the Person class and which also has a section attribute.\n",
        "\n",
        "Create a method displayStudent() that displays the name, age and section of an object created via the Student class.\n",
        "\n",
        "Create a student object via an instantiation on the Student class and then test the displayStudent method."
      ],
      "metadata": {
        "id": "IISAzJQfp-Ge"
      }
    },
    {
      "cell_type": "code",
      "source": [],
      "metadata": {
        "id": "9hNsBH3sqHwB"
      },
      "execution_count": null,
      "outputs": []
    },
    {
      "cell_type": "markdown",
      "source": [
        "1. Define a Book class with the following attributes: Title, Author (Full name), Price.\n",
        "2. Define a constructor used to initialize the attributes of the method with values entered by the user.\n",
        "3. Set the View() method to display information for the current book.\n",
        "4. Write a program to testing the Book class."
      ],
      "metadata": {
        "id": "ITqknxSMrLh6"
      }
    },
    {
      "cell_type": "code",
      "source": [],
      "metadata": {
        "id": "hukiypU4rUU1"
      },
      "execution_count": null,
      "outputs": []
    }
  ]
}