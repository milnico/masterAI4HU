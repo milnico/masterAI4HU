{
  "nbformat": 4,
  "nbformat_minor": 0,
  "metadata": {
    "colab": {
      "provenance": [],
      "include_colab_link": true
    },
    "kernelspec": {
      "display_name": "Python 3",
      "language": "python",
      "name": "python3"
    },
    "language_info": {
      "codemirror_mode": {
        "name": "ipython",
        "version": 3
      },
      "file_extension": ".py",
      "mimetype": "text/x-python",
      "name": "python",
      "nbconvert_exporter": "python",
      "pygments_lexer": "ipython3",
      "version": "3.7.6"
    }
  },
  "cells": [
    {
      "cell_type": "markdown",
      "metadata": {
        "id": "view-in-github",
        "colab_type": "text"
      },
      "source": [
        "<a href=\"https://colab.research.google.com/github/milnico/masterAI4HU/blob/main/Lezione2_Functions_esercizi.ipynb\" target=\"_parent\"><img src=\"https://colab.research.google.com/assets/colab-badge.svg\" alt=\"Open In Colab\"/></a>"
      ]
    },
    {
      "cell_type": "code",
      "source": [
        "#write an empty function that print your name"
      ],
      "metadata": {
        "id": "juF9UnEMaBMx"
      },
      "execution_count": null,
      "outputs": []
    },
    {
      "cell_type": "code",
      "source": [
        "#write a function that accepts as argument a string and print your name"
      ],
      "metadata": {
        "id": "3jclKO71aKVZ"
      },
      "execution_count": null,
      "outputs": []
    },
    {
      "cell_type": "code",
      "source": [
        "#write a function that accepts as argument a real number and return three output, the number squared, on the third and on the fourth"
      ],
      "metadata": {
        "id": "k5QueDK7abLN"
      },
      "execution_count": null,
      "outputs": []
    },
    {
      "cell_type": "markdown",
      "metadata": {
        "id": "vHIN4Gt_HmDT"
      },
      "source": [
        "Write a Python function to sum all the numbers in a list.\n",
        "\n"
      ]
    },
    {
      "cell_type": "code",
      "metadata": {
        "id": "aekm7kxQHi9K"
      },
      "source": [
        "def sum(numbers):\n",
        "    \n",
        "\n",
        "nums = [8, 2, 3, 0, 7,12,54]\n"
      ],
      "execution_count": null,
      "outputs": []
    },
    {
      "cell_type": "markdown",
      "metadata": {
        "id": "iszzQKCzJvwa"
      },
      "source": [
        "Write a Python function to multiply all the numbers in a list.\n"
      ]
    },
    {
      "cell_type": "code",
      "metadata": {
        "id": "SbAiva3aJv7U"
      },
      "source": [
        "def multiply(numbers):  \n",
        "\n",
        "nums = [8, 2, 3, 0, 7,12,54]"
      ],
      "execution_count": null,
      "outputs": []
    },
    {
      "cell_type": "markdown",
      "metadata": {
        "id": "ArH9xIKWJ3MW"
      },
      "source": [
        "Write a Python program to reverse a string.\n",
        "\n"
      ]
    },
    {
      "cell_type": "code",
      "metadata": {
        "id": "U7lXXoYzJ3WY",
        "colab": {
          "base_uri": "https://localhost:8080/"
        },
        "outputId": "4eaf61be-1ae2-4833-907a-65333deec40b"
      },
      "source": [
        "def string_reverse(str1):\n",
        "\n",
        "string_to_reverse = '1234abcd'\n"
      ],
      "execution_count": null,
      "outputs": [
        {
          "output_type": "stream",
          "text": [
            "dcba4321\n"
          ],
          "name": "stdout"
        }
      ]
    },
    {
      "cell_type": "markdown",
      "metadata": {
        "id": "h73hTHO9J3ns"
      },
      "source": [
        "\n",
        "Write a Python program to count how many numbers are between two integers\n"
      ]
    },
    {
      "cell_type": "code",
      "metadata": {
        "colab": {
          "base_uri": "https://localhost:8080/",
          "height": 197
        },
        "id": "mBkkz8IdJ3va",
        "outputId": "79ffaed2-f4c1-43d8-94f0-9c5228a882e9"
      },
      "source": [
        "def func(x,y):\n",
        "  count = 0\n",
        "  #for,while \n",
        "\n",
        "  return count\n",
        "\n",
        "val1 = 12\n",
        "val2 = 134\n",
        "print(func())"
      ],
      "execution_count": null,
      "outputs": [
        {
          "output_type": "error",
          "ename": "TypeError",
          "evalue": "ignored",
          "traceback": [
            "\u001b[0;31m---------------------------------------------------------------------------\u001b[0m",
            "\u001b[0;31mTypeError\u001b[0m                                 Traceback (most recent call last)",
            "\u001b[0;32m<ipython-input-2-9ff2c0f53601>\u001b[0m in \u001b[0;36m<module>\u001b[0;34m()\u001b[0m\n\u001b[1;32m      7\u001b[0m \u001b[0mval1\u001b[0m \u001b[0;34m=\u001b[0m \u001b[0;36m12\u001b[0m\u001b[0;34m\u001b[0m\u001b[0;34m\u001b[0m\u001b[0m\n\u001b[1;32m      8\u001b[0m \u001b[0mval2\u001b[0m \u001b[0;34m=\u001b[0m \u001b[0;36m134\u001b[0m\u001b[0;34m\u001b[0m\u001b[0;34m\u001b[0m\u001b[0m\n\u001b[0;32m----> 9\u001b[0;31m \u001b[0mprint\u001b[0m\u001b[0;34m(\u001b[0m\u001b[0mfunc\u001b[0m\u001b[0;34m(\u001b[0m\u001b[0;34m)\u001b[0m\u001b[0;34m)\u001b[0m\u001b[0;34m\u001b[0m\u001b[0;34m\u001b[0m\u001b[0m\n\u001b[0m",
            "\u001b[0;31mTypeError\u001b[0m: func() missing 2 required positional arguments: 'x' and 'y'"
          ]
        }
      ]
    },
    {
      "cell_type": "markdown",
      "metadata": {
        "id": "z8oP5Ov7LyJq"
      },
      "source": [
        "Write a Python function to create and print a list where the values are the square of numbers between x = start and y = end \n"
      ]
    },
    {
      "cell_type": "code",
      "metadata": {
        "id": "QXYBbYN6LyRJ",
        "colab": {
          "base_uri": "https://localhost:8080/"
        },
        "outputId": "28c1c108-d741-41c4-c789-478f16f31713"
      },
      "source": [
        "\n",
        "def createList(start,end):\n",
        "\n",
        "\t\t\n",
        "createList()"
      ],
      "execution_count": null,
      "outputs": [
        {
          "output_type": "stream",
          "text": [
            "[144, 169, 196, 225, 256, 289, 324, 361, 400, 441, 484, 529]\n"
          ],
          "name": "stdout"
        }
      ]
    },
    {
      "cell_type": "markdown",
      "metadata": {
        "id": "GVk-F-osL-Vr"
      },
      "source": [
        "Write a Python function to check whether a number is even and store it in a new array.\n",
        "\n"
      ]
    },
    {
      "cell_type": "code",
      "metadata": {
        "id": "2FeE26BgL-e7",
        "colab": {
          "base_uri": "https://localhost:8080/"
        },
        "outputId": "2d9d3093-705b-4d08-c174-f1d1d20142d8"
      },
      "source": [
        "def is_even_num(l):\n",
        "    \n",
        "nums = [1, 2, 3, 4, 5, 6, 7, 8, 9]"
      ],
      "execution_count": null,
      "outputs": [
        {
          "output_type": "stream",
          "text": [
            "[2, 4, 6, 8]\n"
          ],
          "name": "stdout"
        }
      ]
    },
    {
      "cell_type": "markdown",
      "metadata": {
        "id": "cN-HdLm-MOh8"
      },
      "source": [
        "Write a Python program to count the number of even and odd numbers from a series of numbers.\n",
        "\n"
      ]
    },
    {
      "cell_type": "code",
      "metadata": {
        "id": "QTskAqzlMOt_",
        "colab": {
          "base_uri": "https://localhost:8080/"
        },
        "outputId": "4d8ea1c6-2a79-4baf-e973-c50b7929da37"
      },
      "source": [
        "numbers = [1, 2, 3, 4, 5, 6, 7, 8, 9] # Declaring the tuple\n"
      ],
      "execution_count": null,
      "outputs": [
        {
          "output_type": "stream",
          "text": [
            "Number of even numbers : 4\n",
            "Number of odd numbers : 5\n"
          ],
          "name": "stdout"
        }
      ]
    },
    {
      "cell_type": "markdown",
      "metadata": {
        "id": "9EpnXlT0Nbhq"
      },
      "source": [
        "Write a Python program to get the Fibonacci series between 0 to 50.\n",
        "\n"
      ]
    },
    {
      "cell_type": "code",
      "metadata": {
        "id": "IEhU2GSUNcTc"
      },
      "source": [],
      "execution_count": null,
      "outputs": []
    }
  ]
}